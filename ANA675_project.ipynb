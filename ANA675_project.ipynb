{
  "cells": [
    {
      "cell_type": "markdown",
      "metadata": {
        "id": "tqtawKJaMyGv"
      },
      "source": [
        "### Boston Housing Prices\n",
        "\n",
        "Team Members:  \n",
        "Kurt Grothe  \n",
        "Kamika Hughes  \n",
        "Daniel Lagos  \n",
        "\n",
        "This project is a to predict the best price of a home in Boston for negotiating purposes"
      ]
    },
    {
      "cell_type": "markdown",
      "metadata": {
        "id": "rXjJvlZXMyGx"
      },
      "source": [
        "### Library Imports"
      ]
    },
    {
      "cell_type": "code",
      "execution_count": null,
      "metadata": {
        "id": "CLTnubpsMyGy"
      },
      "outputs": [],
      "source": [
        "import numpy as np\n",
        "import pandas as pd\n",
        "import matplotlib.pyplot as plt\n",
        "import seaborn as sns\n",
        "#from keras.utils import np_utils\n",
        "from sklearn.preprocessing import MinMaxScaler\n",
        "from sklearn.model_selection import train_test_split\n",
        "from sklearn.metrics import mean_squared_error, explained_variance_score\n",
        "from tensorflow import keras\n",
        "from keras import layers\n",
        "from keras.callbacks import EarlyStopping, ModelCheckpoint,ReduceLROnPlateau\n",
        "from tensorflow.keras.utils import plot_model\n",
        "#from IPython.display import Image\n",
        "#import tensorflow as tf"
      ]
    },
    {
      "cell_type": "markdown",
      "metadata": {
        "id": "WrBAIU4eMyGy"
      },
      "source": [
        "### Data Load/Split Data into Testing and Training"
      ]
    },
    {
      "cell_type": "code",
      "execution_count": null,
      "metadata": {
        "id": "n7j8dkAmMyGz"
      },
      "outputs": [],
      "source": [
        "# Import Data and Split into Testing and Training\n",
        "(x_train, y_train), (x_test, y_test) = keras.datasets.boston_housing.load_data(seed=42)"
      ]
    },
    {
      "cell_type": "markdown",
      "metadata": {
        "id": "7dnxlvqYMyGz"
      },
      "source": [
        "### Data Exploration"
      ]
    },
    {
      "cell_type": "code",
      "execution_count": null,
      "metadata": {
        "id": "J3uwRdtIMyGz",
        "outputId": "6f323730-a8d1-417b-9bce-117b25b544f3"
      },
      "outputs": [
        {
          "name": "stdout",
          "output_type": "stream",
          "text": [
            "Data Shapes:\n",
            "x_train:(404, 13), y_train:(404,)\n",
            "x_test:(102, 13),  y_test:(102,)\n",
            "\n",
            "Data Types:\n",
            "x_train:<class 'numpy.ndarray'>, y_train:<class 'numpy.ndarray'>\n",
            "x_test:<class 'numpy.ndarray'>,  y_test:<class 'numpy.ndarray'>\n"
          ]
        }
      ],
      "source": [
        "print(\"Data Shapes:\")\n",
        "print(f\"x_train:{x_train.shape}, y_train:{y_train.shape}\\nx_test:{x_test.shape},  y_test:{y_test.shape}\")\n",
        "print()\n",
        "print(\"Data Types:\")\n",
        "print(f\"x_train:{type(x_train)}, y_train:{type(y_train)}\\nx_test:{type(x_test)},  y_test:{type(y_test)}\")"
      ]
    },
    {
      "cell_type": "markdown",
      "metadata": {
        "id": "_0OTq5WAMyG0"
      },
      "source": [
        "**Variables**  \n",
        " Crime:      per capita crime rate by town  \n",
        " Zone:       proportion of residential land zoned for lots over 25,000 sq.ft.  \n",
        " Indus:      proportion of non-retail business acres per town  \n",
        " River:      Charles River dummy variable (= 1 if tract bounds river; 0 otherwise)  \n",
        " Nox:        nitric oxides concentration (parts per 10 million)  \n",
        " Room_num:   average number of rooms per dwelling  \n",
        " Owner:      proportion of owner-occupied units built prior to 1940  \n",
        " Distance:   weighted distances to five Boston employment centres  \n",
        " Highway:    index of accessibility to radial highways  \n",
        " Tax:        full-value property-tax rate per \\\\$10,000  \n",
        " Teacher:    pupil-teacher ratio by town  \n",
        " Lstat:      % lower status of the population  \n",
        " medv:       Median value of owner-occupied homes in $1000's"
      ]
    },
    {
      "cell_type": "code",
      "execution_count": null,
      "metadata": {
        "id": "wSn_r5i2MyG0",
        "outputId": "8b02b9ad-2a10-44bc-ef27-8d6f50c65ced"
      },
      "outputs": [
        {
          "data": {
            "text/html": [
              "<div>\n",
              "<style scoped>\n",
              "    .dataframe tbody tr th:only-of-type {\n",
              "        vertical-align: middle;\n",
              "    }\n",
              "\n",
              "    .dataframe tbody tr th {\n",
              "        vertical-align: top;\n",
              "    }\n",
              "\n",
              "    .dataframe thead th {\n",
              "        text-align: right;\n",
              "    }\n",
              "</style>\n",
              "<table border=\"1\" class=\"dataframe\">\n",
              "  <thead>\n",
              "    <tr style=\"text-align: right;\">\n",
              "      <th></th>\n",
              "      <th>Crime</th>\n",
              "      <th>Zone</th>\n",
              "      <th>Indus</th>\n",
              "      <th>River</th>\n",
              "      <th>Nox</th>\n",
              "      <th>Room_num</th>\n",
              "      <th>Owner</th>\n",
              "      <th>Distance</th>\n",
              "      <th>Highway</th>\n",
              "      <th>Tax</th>\n",
              "      <th>Teacher</th>\n",
              "      <th>Lstat</th>\n",
              "      <th>Medv</th>\n",
              "      <th>Price</th>\n",
              "    </tr>\n",
              "  </thead>\n",
              "  <tbody>\n",
              "    <tr>\n",
              "      <th>0</th>\n",
              "      <td>0.09178</td>\n",
              "      <td>0.0</td>\n",
              "      <td>4.05</td>\n",
              "      <td>0.0</td>\n",
              "      <td>0.510</td>\n",
              "      <td>6.416</td>\n",
              "      <td>84.1</td>\n",
              "      <td>2.6463</td>\n",
              "      <td>5.0</td>\n",
              "      <td>296.0</td>\n",
              "      <td>16.6</td>\n",
              "      <td>395.50</td>\n",
              "      <td>9.04</td>\n",
              "      <td>23.6</td>\n",
              "    </tr>\n",
              "    <tr>\n",
              "      <th>1</th>\n",
              "      <td>0.05644</td>\n",
              "      <td>40.0</td>\n",
              "      <td>6.41</td>\n",
              "      <td>1.0</td>\n",
              "      <td>0.447</td>\n",
              "      <td>6.758</td>\n",
              "      <td>32.9</td>\n",
              "      <td>4.0776</td>\n",
              "      <td>4.0</td>\n",
              "      <td>254.0</td>\n",
              "      <td>17.6</td>\n",
              "      <td>396.90</td>\n",
              "      <td>3.53</td>\n",
              "      <td>23.6</td>\n",
              "    </tr>\n",
              "    <tr>\n",
              "      <th>2</th>\n",
              "      <td>0.10574</td>\n",
              "      <td>0.0</td>\n",
              "      <td>27.74</td>\n",
              "      <td>0.0</td>\n",
              "      <td>0.609</td>\n",
              "      <td>5.983</td>\n",
              "      <td>98.8</td>\n",
              "      <td>1.8681</td>\n",
              "      <td>4.0</td>\n",
              "      <td>711.0</td>\n",
              "      <td>20.1</td>\n",
              "      <td>390.11</td>\n",
              "      <td>18.07</td>\n",
              "      <td>23.6</td>\n",
              "    </tr>\n",
              "    <tr>\n",
              "      <th>3</th>\n",
              "      <td>0.09164</td>\n",
              "      <td>0.0</td>\n",
              "      <td>10.81</td>\n",
              "      <td>0.0</td>\n",
              "      <td>0.413</td>\n",
              "      <td>6.065</td>\n",
              "      <td>7.8</td>\n",
              "      <td>5.2873</td>\n",
              "      <td>4.0</td>\n",
              "      <td>305.0</td>\n",
              "      <td>19.2</td>\n",
              "      <td>390.91</td>\n",
              "      <td>5.52</td>\n",
              "      <td>23.6</td>\n",
              "    </tr>\n",
              "    <tr>\n",
              "      <th>4</th>\n",
              "      <td>5.09017</td>\n",
              "      <td>0.0</td>\n",
              "      <td>18.10</td>\n",
              "      <td>0.0</td>\n",
              "      <td>0.713</td>\n",
              "      <td>6.297</td>\n",
              "      <td>91.8</td>\n",
              "      <td>2.3682</td>\n",
              "      <td>24.0</td>\n",
              "      <td>666.0</td>\n",
              "      <td>20.2</td>\n",
              "      <td>385.09</td>\n",
              "      <td>17.27</td>\n",
              "      <td>23.6</td>\n",
              "    </tr>\n",
              "    <tr>\n",
              "      <th>...</th>\n",
              "      <td>...</td>\n",
              "      <td>...</td>\n",
              "      <td>...</td>\n",
              "      <td>...</td>\n",
              "      <td>...</td>\n",
              "      <td>...</td>\n",
              "      <td>...</td>\n",
              "      <td>...</td>\n",
              "      <td>...</td>\n",
              "      <td>...</td>\n",
              "      <td>...</td>\n",
              "      <td>...</td>\n",
              "      <td>...</td>\n",
              "      <td>...</td>\n",
              "    </tr>\n",
              "    <tr>\n",
              "      <th>97</th>\n",
              "      <td>0.17120</td>\n",
              "      <td>0.0</td>\n",
              "      <td>8.56</td>\n",
              "      <td>0.0</td>\n",
              "      <td>0.520</td>\n",
              "      <td>5.836</td>\n",
              "      <td>91.9</td>\n",
              "      <td>2.2110</td>\n",
              "      <td>5.0</td>\n",
              "      <td>384.0</td>\n",
              "      <td>20.9</td>\n",
              "      <td>395.67</td>\n",
              "      <td>18.66</td>\n",
              "      <td>22.4</td>\n",
              "    </tr>\n",
              "    <tr>\n",
              "      <th>98</th>\n",
              "      <td>0.29916</td>\n",
              "      <td>20.0</td>\n",
              "      <td>6.96</td>\n",
              "      <td>0.0</td>\n",
              "      <td>0.464</td>\n",
              "      <td>5.856</td>\n",
              "      <td>42.1</td>\n",
              "      <td>4.4290</td>\n",
              "      <td>3.0</td>\n",
              "      <td>223.0</td>\n",
              "      <td>18.6</td>\n",
              "      <td>388.65</td>\n",
              "      <td>13.00</td>\n",
              "      <td>22.4</td>\n",
              "    </tr>\n",
              "    <tr>\n",
              "      <th>99</th>\n",
              "      <td>0.01501</td>\n",
              "      <td>80.0</td>\n",
              "      <td>2.01</td>\n",
              "      <td>0.0</td>\n",
              "      <td>0.435</td>\n",
              "      <td>6.635</td>\n",
              "      <td>29.7</td>\n",
              "      <td>8.3440</td>\n",
              "      <td>4.0</td>\n",
              "      <td>280.0</td>\n",
              "      <td>17.0</td>\n",
              "      <td>390.94</td>\n",
              "      <td>5.99</td>\n",
              "      <td>22.4</td>\n",
              "    </tr>\n",
              "    <tr>\n",
              "      <th>100</th>\n",
              "      <td>11.16040</td>\n",
              "      <td>0.0</td>\n",
              "      <td>18.10</td>\n",
              "      <td>0.0</td>\n",
              "      <td>0.740</td>\n",
              "      <td>6.629</td>\n",
              "      <td>94.6</td>\n",
              "      <td>2.1247</td>\n",
              "      <td>24.0</td>\n",
              "      <td>666.0</td>\n",
              "      <td>20.2</td>\n",
              "      <td>109.85</td>\n",
              "      <td>23.27</td>\n",
              "      <td>22.4</td>\n",
              "    </tr>\n",
              "    <tr>\n",
              "      <th>101</th>\n",
              "      <td>0.22876</td>\n",
              "      <td>0.0</td>\n",
              "      <td>8.56</td>\n",
              "      <td>0.0</td>\n",
              "      <td>0.520</td>\n",
              "      <td>6.405</td>\n",
              "      <td>85.4</td>\n",
              "      <td>2.7147</td>\n",
              "      <td>5.0</td>\n",
              "      <td>384.0</td>\n",
              "      <td>20.9</td>\n",
              "      <td>70.80</td>\n",
              "      <td>10.63</td>\n",
              "      <td>22.4</td>\n",
              "    </tr>\n",
              "  </tbody>\n",
              "</table>\n",
              "<p>506 rows × 14 columns</p>\n",
              "</div>"
            ],
            "text/plain": [
              "        Crime  Zone  Indus  River    Nox  Room_num  Owner  Distance  Highway  \\\n",
              "0     0.09178   0.0   4.05    0.0  0.510     6.416   84.1    2.6463      5.0   \n",
              "1     0.05644  40.0   6.41    1.0  0.447     6.758   32.9    4.0776      4.0   \n",
              "2     0.10574   0.0  27.74    0.0  0.609     5.983   98.8    1.8681      4.0   \n",
              "3     0.09164   0.0  10.81    0.0  0.413     6.065    7.8    5.2873      4.0   \n",
              "4     5.09017   0.0  18.10    0.0  0.713     6.297   91.8    2.3682     24.0   \n",
              "..        ...   ...    ...    ...    ...       ...    ...       ...      ...   \n",
              "97    0.17120   0.0   8.56    0.0  0.520     5.836   91.9    2.2110      5.0   \n",
              "98    0.29916  20.0   6.96    0.0  0.464     5.856   42.1    4.4290      3.0   \n",
              "99    0.01501  80.0   2.01    0.0  0.435     6.635   29.7    8.3440      4.0   \n",
              "100  11.16040   0.0  18.10    0.0  0.740     6.629   94.6    2.1247     24.0   \n",
              "101   0.22876   0.0   8.56    0.0  0.520     6.405   85.4    2.7147      5.0   \n",
              "\n",
              "       Tax  Teacher   Lstat   Medv  Price  \n",
              "0    296.0     16.6  395.50   9.04   23.6  \n",
              "1    254.0     17.6  396.90   3.53   23.6  \n",
              "2    711.0     20.1  390.11  18.07   23.6  \n",
              "3    305.0     19.2  390.91   5.52   23.6  \n",
              "4    666.0     20.2  385.09  17.27   23.6  \n",
              "..     ...      ...     ...    ...    ...  \n",
              "97   384.0     20.9  395.67  18.66   22.4  \n",
              "98   223.0     18.6  388.65  13.00   22.4  \n",
              "99   280.0     17.0  390.94   5.99   22.4  \n",
              "100  666.0     20.2  109.85  23.27   22.4  \n",
              "101  384.0     20.9   70.80  10.63   22.4  \n",
              "\n",
              "[506 rows x 14 columns]"
            ]
          },
          "execution_count": 139,
          "metadata": {},
          "output_type": "execute_result"
        }
      ],
      "source": [
        "# Create Labels\n",
        "labels = ['Crime','Zone','Indus','River','Nox','Room_num','Owner','Distance','Highway','Tax','Teacher','Lstat','Medv']\n",
        "# Create Dataframe from train\n",
        "df = pd.DataFrame(x_train, columns=labels)\n",
        "df['Price'] = y_train[0]\n",
        "# Create Dataframe from test\n",
        "dfa = pd.DataFrame(x_test, columns=labels)\n",
        "dfa['Price'] = y_test[0]\n",
        "# Merge test to train df\n",
        "df = df.append(dfa)\n",
        "df"
      ]
    },
    {
      "cell_type": "code",
      "execution_count": null,
      "metadata": {
        "id": "aWggKOf9MyG1",
        "outputId": "59b7db1d-decf-48bc-8368-7c7307baab9c"
      },
      "outputs": [
        {
          "data": {
            "text/html": [
              "<div>\n",
              "<style scoped>\n",
              "    .dataframe tbody tr th:only-of-type {\n",
              "        vertical-align: middle;\n",
              "    }\n",
              "\n",
              "    .dataframe tbody tr th {\n",
              "        vertical-align: top;\n",
              "    }\n",
              "\n",
              "    .dataframe thead th {\n",
              "        text-align: right;\n",
              "    }\n",
              "</style>\n",
              "<table border=\"1\" class=\"dataframe\">\n",
              "  <thead>\n",
              "    <tr style=\"text-align: right;\">\n",
              "      <th></th>\n",
              "      <th>Crime</th>\n",
              "      <th>Zone</th>\n",
              "      <th>Indus</th>\n",
              "      <th>River</th>\n",
              "      <th>Nox</th>\n",
              "      <th>Room_num</th>\n",
              "      <th>Owner</th>\n",
              "      <th>Distance</th>\n",
              "      <th>Highway</th>\n",
              "      <th>Tax</th>\n",
              "      <th>Teacher</th>\n",
              "      <th>Lstat</th>\n",
              "      <th>Medv</th>\n",
              "      <th>Price</th>\n",
              "    </tr>\n",
              "  </thead>\n",
              "  <tbody>\n",
              "    <tr>\n",
              "      <th>count</th>\n",
              "      <td>506.000000</td>\n",
              "      <td>506.000000</td>\n",
              "      <td>506.000000</td>\n",
              "      <td>506.000000</td>\n",
              "      <td>506.000000</td>\n",
              "      <td>506.000000</td>\n",
              "      <td>506.000000</td>\n",
              "      <td>506.000000</td>\n",
              "      <td>506.000000</td>\n",
              "      <td>506.000000</td>\n",
              "      <td>506.000000</td>\n",
              "      <td>506.000000</td>\n",
              "      <td>506.000000</td>\n",
              "      <td>506.000000</td>\n",
              "    </tr>\n",
              "    <tr>\n",
              "      <th>mean</th>\n",
              "      <td>3.613524</td>\n",
              "      <td>11.363636</td>\n",
              "      <td>11.136779</td>\n",
              "      <td>0.069170</td>\n",
              "      <td>0.554695</td>\n",
              "      <td>6.284634</td>\n",
              "      <td>68.574901</td>\n",
              "      <td>3.795043</td>\n",
              "      <td>9.549407</td>\n",
              "      <td>408.237154</td>\n",
              "      <td>18.455534</td>\n",
              "      <td>356.674032</td>\n",
              "      <td>12.653063</td>\n",
              "      <td>23.358103</td>\n",
              "    </tr>\n",
              "    <tr>\n",
              "      <th>std</th>\n",
              "      <td>8.601545</td>\n",
              "      <td>23.322453</td>\n",
              "      <td>6.860353</td>\n",
              "      <td>0.253994</td>\n",
              "      <td>0.115878</td>\n",
              "      <td>0.702617</td>\n",
              "      <td>28.148861</td>\n",
              "      <td>2.105710</td>\n",
              "      <td>8.707259</td>\n",
              "      <td>168.537116</td>\n",
              "      <td>2.164946</td>\n",
              "      <td>91.294864</td>\n",
              "      <td>7.141062</td>\n",
              "      <td>0.481893</td>\n",
              "    </tr>\n",
              "    <tr>\n",
              "      <th>min</th>\n",
              "      <td>0.006320</td>\n",
              "      <td>0.000000</td>\n",
              "      <td>0.460000</td>\n",
              "      <td>0.000000</td>\n",
              "      <td>0.385000</td>\n",
              "      <td>3.561000</td>\n",
              "      <td>2.900000</td>\n",
              "      <td>1.129600</td>\n",
              "      <td>1.000000</td>\n",
              "      <td>187.000000</td>\n",
              "      <td>12.600000</td>\n",
              "      <td>0.320000</td>\n",
              "      <td>1.730000</td>\n",
              "      <td>22.400000</td>\n",
              "    </tr>\n",
              "    <tr>\n",
              "      <th>25%</th>\n",
              "      <td>0.082045</td>\n",
              "      <td>0.000000</td>\n",
              "      <td>5.190000</td>\n",
              "      <td>0.000000</td>\n",
              "      <td>0.449000</td>\n",
              "      <td>5.885500</td>\n",
              "      <td>45.025000</td>\n",
              "      <td>2.100175</td>\n",
              "      <td>4.000000</td>\n",
              "      <td>279.000000</td>\n",
              "      <td>17.400000</td>\n",
              "      <td>375.377500</td>\n",
              "      <td>6.950000</td>\n",
              "      <td>23.600000</td>\n",
              "    </tr>\n",
              "    <tr>\n",
              "      <th>50%</th>\n",
              "      <td>0.256510</td>\n",
              "      <td>0.000000</td>\n",
              "      <td>9.690000</td>\n",
              "      <td>0.000000</td>\n",
              "      <td>0.538000</td>\n",
              "      <td>6.208500</td>\n",
              "      <td>77.500000</td>\n",
              "      <td>3.207450</td>\n",
              "      <td>5.000000</td>\n",
              "      <td>330.000000</td>\n",
              "      <td>19.050000</td>\n",
              "      <td>391.440000</td>\n",
              "      <td>11.360000</td>\n",
              "      <td>23.600000</td>\n",
              "    </tr>\n",
              "    <tr>\n",
              "      <th>75%</th>\n",
              "      <td>3.677083</td>\n",
              "      <td>12.500000</td>\n",
              "      <td>18.100000</td>\n",
              "      <td>0.000000</td>\n",
              "      <td>0.624000</td>\n",
              "      <td>6.623500</td>\n",
              "      <td>94.075000</td>\n",
              "      <td>5.188425</td>\n",
              "      <td>24.000000</td>\n",
              "      <td>666.000000</td>\n",
              "      <td>20.200000</td>\n",
              "      <td>396.225000</td>\n",
              "      <td>16.955000</td>\n",
              "      <td>23.600000</td>\n",
              "    </tr>\n",
              "    <tr>\n",
              "      <th>max</th>\n",
              "      <td>88.976200</td>\n",
              "      <td>100.000000</td>\n",
              "      <td>27.740000</td>\n",
              "      <td>1.000000</td>\n",
              "      <td>0.871000</td>\n",
              "      <td>8.780000</td>\n",
              "      <td>100.000000</td>\n",
              "      <td>12.126500</td>\n",
              "      <td>24.000000</td>\n",
              "      <td>711.000000</td>\n",
              "      <td>22.000000</td>\n",
              "      <td>396.900000</td>\n",
              "      <td>37.970000</td>\n",
              "      <td>23.600000</td>\n",
              "    </tr>\n",
              "  </tbody>\n",
              "</table>\n",
              "</div>"
            ],
            "text/plain": [
              "            Crime        Zone       Indus       River         Nox    Room_num  \\\n",
              "count  506.000000  506.000000  506.000000  506.000000  506.000000  506.000000   \n",
              "mean     3.613524   11.363636   11.136779    0.069170    0.554695    6.284634   \n",
              "std      8.601545   23.322453    6.860353    0.253994    0.115878    0.702617   \n",
              "min      0.006320    0.000000    0.460000    0.000000    0.385000    3.561000   \n",
              "25%      0.082045    0.000000    5.190000    0.000000    0.449000    5.885500   \n",
              "50%      0.256510    0.000000    9.690000    0.000000    0.538000    6.208500   \n",
              "75%      3.677083   12.500000   18.100000    0.000000    0.624000    6.623500   \n",
              "max     88.976200  100.000000   27.740000    1.000000    0.871000    8.780000   \n",
              "\n",
              "            Owner    Distance     Highway         Tax     Teacher       Lstat  \\\n",
              "count  506.000000  506.000000  506.000000  506.000000  506.000000  506.000000   \n",
              "mean    68.574901    3.795043    9.549407  408.237154   18.455534  356.674032   \n",
              "std     28.148861    2.105710    8.707259  168.537116    2.164946   91.294864   \n",
              "min      2.900000    1.129600    1.000000  187.000000   12.600000    0.320000   \n",
              "25%     45.025000    2.100175    4.000000  279.000000   17.400000  375.377500   \n",
              "50%     77.500000    3.207450    5.000000  330.000000   19.050000  391.440000   \n",
              "75%     94.075000    5.188425   24.000000  666.000000   20.200000  396.225000   \n",
              "max    100.000000   12.126500   24.000000  711.000000   22.000000  396.900000   \n",
              "\n",
              "             Medv       Price  \n",
              "count  506.000000  506.000000  \n",
              "mean    12.653063   23.358103  \n",
              "std      7.141062    0.481893  \n",
              "min      1.730000   22.400000  \n",
              "25%      6.950000   23.600000  \n",
              "50%     11.360000   23.600000  \n",
              "75%     16.955000   23.600000  \n",
              "max     37.970000   23.600000  "
            ]
          },
          "execution_count": 140,
          "metadata": {},
          "output_type": "execute_result"
        }
      ],
      "source": [
        "# Summary stats\n",
        "df.describe()"
      ]
    },
    {
      "cell_type": "code",
      "execution_count": null,
      "metadata": {
        "id": "HqECCKaeMyG1",
        "outputId": "d0799a20-b1a8-4a83-a32a-1c67bf1ca482"
      },
      "outputs": [
        {
          "data": {
            "image/png": "[encoded data removed]",
            "text/plain": [
              "<Figure size 792x792 with 1 Axes>"
            ]
          },
          "metadata": {
            "needs_background": "light"
          },
          "output_type": "display_data"
        }
      ],
      "source": [
        "# Correlatoin Matrix\n",
        "matrix = df.corr().round(2)\n",
        "fig, ax = plt.subplots(figsize=(11, 11))\n",
        "sns.heatmap(matrix, annot=True,cbar=False,cmap='vlag')\n",
        "plt.show()"
      ]
    },
    {
      "cell_type": "markdown",
      "metadata": {
        "id": "uCPmavJuMyG1"
      },
      "source": [
        "### Normalize data"
      ]
    },
    {
      "cell_type": "code",
      "execution_count": null,
      "metadata": {
        "id": "f2ZO--gAMyG2"
      },
      "outputs": [],
      "source": [
        "scaler = MinMaxScaler()\n",
        "# Scale images to the [0, 1] range\n",
        "x_train_scaled = scaler.fit_transform(x_train)\n",
        "x_test_scaled = scaler.transform(x_test)"
      ]
    },
    {
      "cell_type": "code",
      "execution_count": null,
      "metadata": {
        "id": "SRLkD16uMyG2",
        "outputId": "de0e7b7b-dc8a-4588-f066-1bf27edde23e"
      },
      "outputs": [
        {
          "name": "stdout",
          "output_type": "stream",
          "text": [
            "0     0.0\n",
            "1     0.0\n",
            "2     0.0\n",
            "3     0.0\n",
            "4     0.0\n",
            "5     0.0\n",
            "6     0.0\n",
            "7     0.0\n",
            "8     0.0\n",
            "9     0.0\n",
            "10    0.0\n",
            "11    0.0\n",
            "12    0.0\n",
            "dtype: float64 0     1.0\n",
            "1     1.0\n",
            "2     1.0\n",
            "3     1.0\n",
            "4     1.0\n",
            "5     1.0\n",
            "6     1.0\n",
            "7     1.0\n",
            "8     1.0\n",
            "9     1.0\n",
            "10    1.0\n",
            "11    1.0\n",
            "12    1.0\n",
            "dtype: float64\n"
          ]
        }
      ],
      "source": [
        "# Check that Data was scaled properly with Min at 0 and Max at 1\n",
        "print(pd.DataFrame(x_train_scaled).min(),pd.DataFrame(x_train_scaled).max())"
      ]
    },
    {
      "cell_type": "markdown",
      "metadata": {
        "id": "HKXK_t95MyG2"
      },
      "source": [
        "### Neural Network"
      ]
    },
    {
      "cell_type": "code",
      "execution_count": null,
      "metadata": {
        "id": "vQYM-qaWMyG2"
      },
      "outputs": [],
      "source": [
        "batch_size = 32\n",
        "epochs = 150\n",
        "input_shape = 13\n",
        "\n",
        "# Call Backs\n",
        "early_stopping = EarlyStopping(monitor='val_loss', \n",
        "                               patience=3, \n",
        "                               verbose=1, \n",
        "                               restore_best_weights=True)\n",
        "checkpoint = ModelCheckpoint(\"/Users/imac/Desktop/ANA675/\", save_format=\"h5\",\n",
        "                             monitor='val_loss', \n",
        "                             mode='min',\n",
        "                             save_best_only=True, \n",
        "                             verbose=1)\n",
        "learning_rate = ReduceLROnPlateau(monitor='val_loss',\n",
        "                            factor=0.2,\n",
        "                            patience=3,\n",
        "                            verbose=1,)\n",
        "callbacks = [checkpoint,early_stopping,learning_rate]\n",
        "opt = keras.optimizers.Adam(learning_rate=0.0001,beta_1=0.9,beta_2=0.999,epsilon=1e-09,amsgrad=False,)\n"
      ]
    },
    {
      "cell_type": "code",
      "execution_count": null,
      "metadata": {
        "id": "vmcXGOMcMyG2",
        "outputId": "a7f540ff-cab2-410f-94ea-eff45b411a81"
      },
      "outputs": [
        {
          "name": "stdout",
          "output_type": "stream",
          "text": [
            "Model: \"sequential_10\"\n",
            "_________________________________________________________________\n",
            " Layer (type)                Output Shape              Param #   \n",
            "=================================================================\n",
            " dense_50 (Dense)            (None, 100)               1400      \n",
            "                                                                 \n",
            " dense_51 (Dense)            (None, 150)               15150     \n",
            "                                                                 \n",
            " dense_52 (Dense)            (None, 300)               45300     \n",
            "                                                                 \n",
            " dense_53 (Dense)            (None, 600)               180600    \n",
            "                                                                 \n",
            " dense_54 (Dense)            (None, 1)                 601       \n",
            "                                                                 \n",
            "=================================================================\n",
            "Total params: 243,051\n",
            "Trainable params: 243,051\n",
            "Non-trainable params: 0\n",
            "_________________________________________________________________\n"
          ]
        }
      ],
      "source": [
        "ann = keras.Sequential(\n",
        "    [\n",
        "        keras.Input(shape=input_shape),\n",
        "        \n",
        "        keras.layers.Dense(100, activation=\"relu\"),\n",
        "        keras.layers.Dense(150, activation=\"relu\"),\n",
        "        keras.layers.Dense(300, activation=\"relu\"),        \n",
        "        keras.layers.Dense(600, activation=\"relu\"),        \n",
        "        layers.Dense(1)\n",
        "    ]\n",
        ")\n",
        "ann.summary()\n",
        "ann.compile(loss=\"mse\", optimizer=opt)"
      ]
    },
    {
      "cell_type": "code",
      "execution_count": null,
      "metadata": {
        "id": "9YLZx3uOMyG2",
        "outputId": "600f9e89-c4ba-4e36-8a8c-ec91215c0d56"
      },
      "outputs": [
        {
          "name": "stdout",
          "output_type": "stream",
          "text": [
            "Epoch 1/150\n",
            " 1/12 [=>............................] - ETA: 4s - loss: 402.8843\n",
            "Epoch 1: val_loss improved from inf to 82.35939, saving model to /Users/imac/Desktop/ANA675/\n",
            "INFO:tensorflow:Assets written to: /Users/imac/Desktop/ANA675/assets\n",
            "12/12 [==============================] - 1s 81ms/step - loss: 185.5012 - val_loss: 82.3594 - lr: 1.0000e-04\n",
            "Epoch 2/150\n",
            " 1/12 [=>............................] - ETA: 0s - loss: 75.0752\n",
            "Epoch 2: val_loss improved from 82.35939 to 78.14849, saving model to /Users/imac/Desktop/ANA675/\n",
            "INFO:tensorflow:Assets written to: /Users/imac/Desktop/ANA675/assets\n",
            "12/12 [==============================] - 1s 74ms/step - loss: 84.1935 - val_loss: 78.1485 - lr: 1.0000e-04\n",
            "Epoch 3/150\n",
            " 1/12 [=>............................] - ETA: 0s - loss: 65.7205\n",
            "Epoch 3: val_loss improved from 78.14849 to 73.57870, saving model to /Users/imac/Desktop/ANA675/\n",
            "INFO:tensorflow:Assets written to: /Users/imac/Desktop/ANA675/assets\n",
            "12/12 [==============================] - 1s 73ms/step - loss: 74.5893 - val_loss: 73.5787 - lr: 1.0000e-04\n",
            "Epoch 4/150\n",
            " 1/12 [=>............................] - ETA: 0s - loss: 89.6415\n",
            "Epoch 4: val_loss did not improve from 73.57870\n",
            "12/12 [==============================] - 0s 6ms/step - loss: 67.1227 - val_loss: 74.6631 - lr: 1.0000e-04\n",
            "Epoch 5/150\n",
            " 1/12 [=>............................] - ETA: 0s - loss: 64.0452\n",
            "Epoch 5: val_loss improved from 73.57870 to 68.91703, saving model to /Users/imac/Desktop/ANA675/\n",
            "INFO:tensorflow:Assets written to: /Users/imac/Desktop/ANA675/assets\n",
            "12/12 [==============================] - 1s 74ms/step - loss: 62.3599 - val_loss: 68.9170 - lr: 1.0000e-04\n",
            "Epoch 6/150\n",
            " 1/12 [=>............................] - ETA: 0s - loss: 34.6678\n",
            "Epoch 6: val_loss did not improve from 68.91703\n",
            "12/12 [==============================] - 0s 6ms/step - loss: 60.6996 - val_loss: 76.8947 - lr: 1.0000e-04\n",
            "Epoch 7/150\n",
            " 1/12 [=>............................] - ETA: 0s - loss: 52.0499\n",
            "Epoch 7: val_loss did not improve from 68.91703\n",
            "12/12 [==============================] - 0s 6ms/step - loss: 66.4007 - val_loss: 69.1062 - lr: 1.0000e-04\n",
            "Epoch 8/150\n",
            " 1/12 [=>............................] - ETA: 0s - loss: 27.5219\n",
            "Epoch 8: val_loss improved from 68.91703 to 67.02381, saving model to /Users/imac/Desktop/ANA675/\n",
            "INFO:tensorflow:Assets written to: /Users/imac/Desktop/ANA675/assets\n",
            "12/12 [==============================] - 1s 73ms/step - loss: 59.2583 - val_loss: 67.0238 - lr: 1.0000e-04\n",
            "Epoch 9/150\n",
            " 5/12 [===========>..................] - ETA: 0s - loss: 61.6635\n",
            "Epoch 9: val_loss improved from 67.02381 to 65.66776, saving model to /Users/imac/Desktop/ANA675/\n",
            "INFO:tensorflow:Assets written to: /Users/imac/Desktop/ANA675/assets\n",
            "12/12 [==============================] - 1s 77ms/step - loss: 57.9639 - val_loss: 65.6678 - lr: 1.0000e-04\n",
            "Epoch 10/150\n",
            " 1/12 [=>............................] - ETA: 0s - loss: 31.6227\n",
            "Epoch 10: val_loss did not improve from 65.66776\n",
            "12/12 [==============================] - 0s 6ms/step - loss: 57.5569 - val_loss: 68.7979 - lr: 1.0000e-04\n",
            "Epoch 11/150\n",
            " 1/12 [=>............................] - ETA: 0s - loss: 34.4866\n",
            "Epoch 11: val_loss improved from 65.66776 to 64.38161, saving model to /Users/imac/Desktop/ANA675/\n",
            "INFO:tensorflow:Assets written to: /Users/imac/Desktop/ANA675/assets\n",
            "12/12 [==============================] - 1s 133ms/step - loss: 58.9378 - val_loss: 64.3816 - lr: 1.0000e-04\n",
            "Epoch 12/150\n",
            "12/12 [==============================] - ETA: 0s - loss: 57.1942\n",
            "Epoch 12: val_loss improved from 64.38161 to 64.25028, saving model to /Users/imac/Desktop/ANA675/\n",
            "INFO:tensorflow:Assets written to: /Users/imac/Desktop/ANA675/assets\n",
            "12/12 [==============================] - 1s 95ms/step - loss: 57.1942 - val_loss: 64.2503 - lr: 1.0000e-04\n",
            "Epoch 13/150\n",
            " 1/12 [=>............................] - ETA: 0s - loss: 43.6469\n",
            "Epoch 13: val_loss did not improve from 64.25028\n",
            "12/12 [==============================] - 0s 7ms/step - loss: 55.5389 - val_loss: 64.7444 - lr: 1.0000e-04\n",
            "Epoch 14/150\n",
            " 1/12 [=>............................] - ETA: 0s - loss: 48.7497\n",
            "Epoch 14: val_loss improved from 64.25028 to 64.02776, saving model to /Users/imac/Desktop/ANA675/\n",
            "INFO:tensorflow:Assets written to: /Users/imac/Desktop/ANA675/assets\n",
            "12/12 [==============================] - 1s 83ms/step - loss: 55.8628 - val_loss: 64.0278 - lr: 1.0000e-04\n",
            "Epoch 15/150\n",
            " 1/12 [=>............................] - ETA: 0s - loss: 34.9443\n",
            "Epoch 15: val_loss improved from 64.02776 to 63.37519, saving model to /Users/imac/Desktop/ANA675/\n",
            "INFO:tensorflow:Assets written to: /Users/imac/Desktop/ANA675/assets\n",
            "12/12 [==============================] - 1s 81ms/step - loss: 55.8896 - val_loss: 63.3752 - lr: 1.0000e-04\n",
            "Epoch 16/150\n",
            " 9/12 [=====================>........] - ETA: 0s - loss: 56.0478\n",
            "Epoch 16: val_loss did not improve from 63.37519\n",
            "12/12 [==============================] - 0s 9ms/step - loss: 55.7539 - val_loss: 63.8865 - lr: 1.0000e-04\n",
            "Epoch 17/150\n",
            " 1/12 [=>............................] - ETA: 0s - loss: 37.5930\n",
            "Epoch 17: val_loss did not improve from 63.37519\n",
            "12/12 [==============================] - 0s 7ms/step - loss: 53.5494 - val_loss: 64.8383 - lr: 1.0000e-04\n",
            "Epoch 18/150\n",
            " 1/12 [=>............................] - ETA: 0s - loss: 57.9063\n",
            "Epoch 18: val_loss improved from 63.37519 to 62.28177, saving model to /Users/imac/Desktop/ANA675/\n",
            "INFO:tensorflow:Assets written to: /Users/imac/Desktop/ANA675/assets\n",
            "12/12 [==============================] - 1s 82ms/step - loss: 53.0678 - val_loss: 62.2818 - lr: 1.0000e-04\n",
            "Epoch 19/150\n",
            " 1/12 [=>............................] - ETA: 0s - loss: 85.9194\n",
            "Epoch 19: val_loss did not improve from 62.28177\n",
            "12/12 [==============================] - 0s 6ms/step - loss: 51.9836 - val_loss: 62.3948 - lr: 1.0000e-04\n",
            "Epoch 20/150\n",
            " 1/12 [=>............................] - ETA: 0s - loss: 65.6080\n",
            "Epoch 20: val_loss improved from 62.28177 to 61.47836, saving model to /Users/imac/Desktop/ANA675/\n",
            "INFO:tensorflow:Assets written to: /Users/imac/Desktop/ANA675/assets\n",
            "12/12 [==============================] - 1s 69ms/step - loss: 51.6594 - val_loss: 61.4784 - lr: 1.0000e-04\n",
            "Epoch 21/150\n",
            " 1/12 [=>............................] - ETA: 0s - loss: 56.4095\n",
            "Epoch 21: val_loss did not improve from 61.47836\n",
            "12/12 [==============================] - 0s 7ms/step - loss: 50.3961 - val_loss: 62.1173 - lr: 1.0000e-04\n",
            "Epoch 22/150\n",
            " 1/12 [=>............................] - ETA: 0s - loss: 19.2774\n",
            "Epoch 22: val_loss improved from 61.47836 to 60.44635, saving model to /Users/imac/Desktop/ANA675/\n",
            "INFO:tensorflow:Assets written to: /Users/imac/Desktop/ANA675/assets\n",
            "12/12 [==============================] - 1s 71ms/step - loss: 53.1945 - val_loss: 60.4464 - lr: 1.0000e-04\n",
            "Epoch 23/150\n",
            " 1/12 [=>............................] - ETA: 0s - loss: 67.6571\n",
            "Epoch 23: val_loss improved from 60.44635 to 59.56918, saving model to /Users/imac/Desktop/ANA675/\n",
            "INFO:tensorflow:Assets written to: /Users/imac/Desktop/ANA675/assets\n",
            "12/12 [==============================] - 1s 80ms/step - loss: 52.5324 - val_loss: 59.5692 - lr: 1.0000e-04\n",
            "Epoch 24/150\n",
            " 1/12 [=>............................] - ETA: 0s - loss: 32.9877\n",
            "Epoch 24: val_loss did not improve from 59.56918\n",
            "12/12 [==============================] - 0s 7ms/step - loss: 49.1504 - val_loss: 62.4437 - lr: 1.0000e-04\n",
            "Epoch 25/150\n",
            " 1/12 [=>............................] - ETA: 0s - loss: 103.9816\n",
            "Epoch 25: val_loss did not improve from 59.56918\n",
            "12/12 [==============================] - 0s 7ms/step - loss: 49.8234 - val_loss: 60.8841 - lr: 1.0000e-04\n",
            "Epoch 26/150\n",
            " 1/12 [=>............................] - ETA: 0s - loss: 68.5616\n",
            "Epoch 26: val_loss improved from 59.56918 to 58.60150, saving model to /Users/imac/Desktop/ANA675/\n",
            "INFO:tensorflow:Assets written to: /Users/imac/Desktop/ANA675/assets\n",
            "12/12 [==============================] - 1s 73ms/step - loss: 49.5870 - val_loss: 58.6015 - lr: 1.0000e-04\n",
            "Epoch 27/150\n",
            " 1/12 [=>............................] - ETA: 0s - loss: 62.2525\n",
            "Epoch 27: val_loss did not improve from 58.60150\n",
            "12/12 [==============================] - 0s 6ms/step - loss: 46.8076 - val_loss: 59.8298 - lr: 1.0000e-04\n",
            "Epoch 28/150\n",
            " 1/12 [=>............................] - ETA: 0s - loss: 33.2382\n",
            "Epoch 28: val_loss improved from 58.60150 to 58.03736, saving model to /Users/imac/Desktop/ANA675/\n",
            "INFO:tensorflow:Assets written to: /Users/imac/Desktop/ANA675/assets\n",
            "12/12 [==============================] - 1s 80ms/step - loss: 48.1190 - val_loss: 58.0374 - lr: 1.0000e-04\n",
            "Epoch 29/150\n",
            " 1/12 [=>............................] - ETA: 0s - loss: 30.3264\n",
            "Epoch 29: val_loss did not improve from 58.03736\n",
            "12/12 [==============================] - 0s 7ms/step - loss: 46.6747 - val_loss: 58.9616 - lr: 1.0000e-04\n",
            "Epoch 30/150\n",
            " 1/12 [=>............................] - ETA: 0s - loss: 28.9071\n",
            "Epoch 30: val_loss improved from 58.03736 to 57.36759, saving model to /Users/imac/Desktop/ANA675/\n",
            "INFO:tensorflow:Assets written to: /Users/imac/Desktop/ANA675/assets\n",
            "12/12 [==============================] - 1s 66ms/step - loss: 45.0639 - val_loss: 57.3676 - lr: 1.0000e-04\n",
            "Epoch 31/150\n",
            " 1/12 [=>............................] - ETA: 0s - loss: 41.4098\n",
            "Epoch 31: val_loss did not improve from 57.36759\n",
            "12/12 [==============================] - 0s 6ms/step - loss: 44.8748 - val_loss: 65.1039 - lr: 1.0000e-04\n",
            "Epoch 32/150\n",
            " 1/12 [=>............................] - ETA: 0s - loss: 40.9769\n",
            "Epoch 32: val_loss did not improve from 57.36759\n",
            "12/12 [==============================] - 0s 6ms/step - loss: 45.9398 - val_loss: 73.4125 - lr: 1.0000e-04\n",
            "Epoch 33/150\n",
            " 1/12 [=>............................] - ETA: 0s - loss: 47.1958\n",
            "Epoch 33: val_loss did not improve from 57.36759\n",
            "Restoring model weights from the end of the best epoch: 30.\n",
            "\n",
            "Epoch 33: ReduceLROnPlateau reducing learning rate to 1.9999999494757503e-05.\n",
            "12/12 [==============================] - 0s 6ms/step - loss: 57.3405 - val_loss: 75.9357 - lr: 1.0000e-04\n",
            "Epoch 33: early stopping\n"
          ]
        }
      ],
      "source": [
        "history = ann.fit(x_train, y_train, batch_size=batch_size, \n",
        "                  epochs=epochs, validation_split=0.1,\n",
        "                  callbacks=callbacks)"
      ]
    },
    {
      "cell_type": "code",
      "execution_count": null,
      "metadata": {
        "id": "2w2XzziIMyG3",
        "outputId": "94fe83b1-c887-4f4d-bd7b-b51a6011dd62"
      },
      "outputs": [
        {
          "data": {
            "text/plain": [
              "<matplotlib.legend.Legend at 0x7fe633bdadf0>"
            ]
          },
          "execution_count": 183,
          "metadata": {},
          "output_type": "execute_result"
        },
        {
          "data": {
            "image/png": "[encoded data removed]",
            "text/plain": [
              "<Figure size 432x288 with 1 Axes>"
            ]
          },
          "metadata": {
            "needs_background": "light"
          },
          "output_type": "display_data"
        }
      ],
      "source": [
        "loss = history.history['loss']\n",
        "val_loss = history.history['val_loss']\n",
        "x = np.arange(0,len(history.epoch))\n",
        "plt.plot( x,val_loss,label='Validation Loss')\n",
        "plt.plot( x,loss, label='Loss')\n",
        "plt.xlabel('Epochs')\n",
        "plt.ylabel('Loss')\n",
        "plt.legend()"
      ]
    },
    {
      "cell_type": "code",
      "execution_count": null,
      "metadata": {
        "id": "85JyradMMyG3",
        "outputId": "c88b3e90-2e96-40fe-c76c-5875a51f6a87"
      },
      "outputs": [
        {
          "name": "stdout",
          "output_type": "stream",
          "text": [
            "4/4 [==============================] - 0s 2ms/step\n"
          ]
        }
      ],
      "source": [
        "predictions = ann.predict(x_test)"
      ]
    },
    {
      "cell_type": "code",
      "execution_count": null,
      "metadata": {
        "id": "-2cTMpd3MyG3",
        "outputId": "2fede5c5-c6ed-4dfe-be0c-dc50120ab434"
      },
      "outputs": [
        {
          "data": {
            "text/plain": [
              "7.130042018444781"
            ]
          },
          "execution_count": 189,
          "metadata": {},
          "output_type": "execute_result"
        }
      ],
      "source": [
        "np.sqrt(mean_squared_error(y_test,predictions))"
      ]
    },
    {
      "cell_type": "code",
      "execution_count": null,
      "metadata": {
        "id": "JvP8YOLcMyG3",
        "outputId": "66d6e51e-1bb6-4fe6-ace6-9f67be5a40fc"
      },
      "outputs": [
        {
          "data": {
            "text/html": [
              "<div>\n",
              "<style scoped>\n",
              "    .dataframe tbody tr th:only-of-type {\n",
              "        vertical-align: middle;\n",
              "    }\n",
              "\n",
              "    .dataframe tbody tr th {\n",
              "        vertical-align: top;\n",
              "    }\n",
              "\n",
              "    .dataframe thead th {\n",
              "        text-align: right;\n",
              "    }\n",
              "</style>\n",
              "<table border=\"1\" class=\"dataframe\">\n",
              "  <thead>\n",
              "    <tr style=\"text-align: right;\">\n",
              "      <th></th>\n",
              "      <th>Test</th>\n",
              "      <th>Predictions</th>\n",
              "      <th>Error</th>\n",
              "      <th>Error_pctg</th>\n",
              "    </tr>\n",
              "  </thead>\n",
              "  <tbody>\n",
              "    <tr>\n",
              "      <th>count</th>\n",
              "      <td>102.000000</td>\n",
              "      <td>102.000000</td>\n",
              "      <td>102.000000</td>\n",
              "      <td>102.000000</td>\n",
              "    </tr>\n",
              "    <tr>\n",
              "      <th>mean</th>\n",
              "      <td>22.640196</td>\n",
              "      <td>22.893684</td>\n",
              "      <td>4.812560</td>\n",
              "      <td>0.227358</td>\n",
              "    </tr>\n",
              "    <tr>\n",
              "      <th>std</th>\n",
              "      <td>8.479798</td>\n",
              "      <td>5.195599</td>\n",
              "      <td>5.286851</td>\n",
              "      <td>0.248334</td>\n",
              "    </tr>\n",
              "    <tr>\n",
              "      <th>min</th>\n",
              "      <td>7.200000</td>\n",
              "      <td>11.042565</td>\n",
              "      <td>0.100097</td>\n",
              "      <td>0.004036</td>\n",
              "    </tr>\n",
              "    <tr>\n",
              "      <th>25%</th>\n",
              "      <td>18.925000</td>\n",
              "      <td>19.320990</td>\n",
              "      <td>1.840109</td>\n",
              "      <td>0.087656</td>\n",
              "    </tr>\n",
              "    <tr>\n",
              "      <th>50%</th>\n",
              "      <td>21.400000</td>\n",
              "      <td>23.987906</td>\n",
              "      <td>3.388007</td>\n",
              "      <td>0.141625</td>\n",
              "    </tr>\n",
              "    <tr>\n",
              "      <th>75%</th>\n",
              "      <td>24.650000</td>\n",
              "      <td>26.492663</td>\n",
              "      <td>6.483504</td>\n",
              "      <td>0.271693</td>\n",
              "    </tr>\n",
              "    <tr>\n",
              "      <th>max</th>\n",
              "      <td>50.000000</td>\n",
              "      <td>35.218578</td>\n",
              "      <td>30.622368</td>\n",
              "      <td>1.512444</td>\n",
              "    </tr>\n",
              "  </tbody>\n",
              "</table>\n",
              "</div>"
            ],
            "text/plain": [
              "             Test  Predictions       Error  Error_pctg\n",
              "count  102.000000   102.000000  102.000000  102.000000\n",
              "mean    22.640196    22.893684    4.812560    0.227358\n",
              "std      8.479798     5.195599    5.286851    0.248334\n",
              "min      7.200000    11.042565    0.100097    0.004036\n",
              "25%     18.925000    19.320990    1.840109    0.087656\n",
              "50%     21.400000    23.987906    3.388007    0.141625\n",
              "75%     24.650000    26.492663    6.483504    0.271693\n",
              "max     50.000000    35.218578   30.622368    1.512444"
            ]
          },
          "execution_count": 209,
          "metadata": {},
          "output_type": "execute_result"
        }
      ],
      "source": [
        "results = pd.DataFrame(y_test,columns=['Test'])\n",
        "results['Predictions'] = pd.DataFrame(predictions)\n",
        "results['Error'] = abs(results['Predictions']-results['Test'])\n",
        "results['Error_pctg'] = results['Error']/results['Test']\n",
        "results.describe()"
      ]
    },
    {
      "cell_type": "code",
      "execution_count": null,
      "metadata": {
        "id": "CJ07VvOrMyG3",
        "outputId": "64916b1f-cb2a-41bd-935b-ee8ca751154c"
      },
      "outputs": [
        {
          "data": {
            "text/plain": [
              "0.2869127922958232"
            ]
          },
          "execution_count": 215,
          "metadata": {},
          "output_type": "execute_result"
        }
      ],
      "source": [
        "explained_variance_score(y_test,predictions)"
      ]
    },
    {
      "cell_type": "code",
      "execution_count": null,
      "metadata": {
        "id": "a3BEwZs7MyG3",
        "outputId": "4c38a690-15e9-4da5-bb2c-f0f3471ed9e9"
      },
      "outputs": [
        {
          "data": {
            "text/plain": [
              "[<matplotlib.lines.Line2D at 0x7fe638e1b790>]"
            ]
          },
          "execution_count": 218,
          "metadata": {},
          "output_type": "execute_result"
        },
        {
          "data": {
            "image/png": "[encoded data removed]",
            "text/plain": [
              "<Figure size 432x288 with 1 Axes>"
            ]
          },
          "metadata": {
            "needs_background": "light"
          },
          "output_type": "display_data"
        }
      ],
      "source": [
        "plt.scatter(y_test,predictions)\n",
        "plt.plot(y_test,y_test,'r')"
      ]
    },
    {
      "cell_type": "code",
      "execution_count": null,
      "metadata": {
        "id": "UY4g-XPEMyG4"
      },
      "outputs": [],
      "source": [
        "# predict "
      ]
    },
    {
      "cell_type": "markdown",
      "source": [
        "# Start of SVR"
      ],
      "metadata": {
        "id": "0Ae-TdmrNIXe"
      }
    },
    {
      "cell_type": "code",
      "source": [],
      "metadata": {
        "id": "czobt-_kNKcF"
      },
      "execution_count": null,
      "outputs": []
    },
    {
      "cell_type": "code",
      "source": [],
      "metadata": {
        "id": "B8v66D0KNKnq"
      },
      "execution_count": null,
      "outputs": []
    }
  ],
  "metadata": {
    "kernelspec": {
      "display_name": "Python 3",
      "language": "python",
      "name": "python3"
    },
    "language_info": {
      "codemirror_mode": {
        "name": "ipython",
        "version": 3
      },
      "file_extension": ".py",
      "mimetype": "text/x-python",
      "name": "python",
      "nbconvert_exporter": "python",
      "pygments_lexer": "ipython3",
      "version": "3.8.5"
    },
    "colab": {
      "provenance": []
    }
  },
  "nbformat": 4,
  "nbformat_minor": 0
}