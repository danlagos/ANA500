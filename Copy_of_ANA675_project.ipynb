{
  "cells": [
    {
      "cell_type": "markdown",
      "metadata": {
        "id": "view-in-github",
        "colab_type": "text"
      },
      "source": [
        "<a href=\"https://colab.research.google.com/github/danlagos/ANA500/blob/master/Copy_of_ANA675_project.ipynb\" target=\"_parent\"><img src=\"https://colab.research.google.com/assets/colab-badge.svg\" alt=\"Open In Colab\"/></a>"
      ]
    },
    {
      "cell_type": "markdown",
      "metadata": {
        "id": "tqtawKJaMyGv"
      },
      "source": [
        "### Boston Housing Prices\n",
        "\n",
        "Team Members:  \n",
        "Kurt Grothe  \n",
        "Kamika Hughes  \n",
        "Daniel Lagos  \n",
        "\n",
        "This project is a to predict the best price of a home in Boston for negotiating purposes"
      ]
    },
    {
      "cell_type": "markdown",
      "metadata": {
        "id": "rXjJvlZXMyGx"
      },
      "source": [
        "### Library Imports"
      ]
    },
    {
      "cell_type": "code",
      "execution_count": 1,
      "metadata": {
        "id": "CLTnubpsMyGy"
      },
      "outputs": [],
      "source": [
        "import numpy as np\n",
        "import pandas as pd\n",
        "import matplotlib.pyplot as plt\n",
        "import seaborn as sns\n",
        "#from keras.utils import np_utils\n",
        "from sklearn.preprocessing import MinMaxScaler\n",
        "from sklearn.model_selection import train_test_split\n",
        "from sklearn.metrics import mean_squared_error, explained_variance_score\n",
        "from tensorflow import keras\n",
        "from keras import layers\n",
        "from keras.callbacks import EarlyStopping, ModelCheckpoint,ReduceLROnPlateau\n",
        "from tensorflow.keras.utils import plot_model\n",
        "#from IPython.display import Image\n",
        "#import tensorflow as tf"
      ]
    },
    {
      "cell_type": "markdown",
      "metadata": {
        "id": "WrBAIU4eMyGy"
      },
      "source": [
        "### Data Load/Split Data into Testing and Training"
      ]
    },
    {
      "cell_type": "code",
      "execution_count": 2,
      "metadata": {
        "id": "n7j8dkAmMyGz",
        "colab": {
          "base_uri": "https://localhost:8080/"
        },
        "outputId": "182b9a77-0610-4839-9477-38f59118057b"
      },
      "outputs": [
        {
          "output_type": "stream",
          "name": "stdout",
          "text": [
            "Downloading data from https://storage.googleapis.com/tensorflow/tf-keras-datasets/boston_housing.npz\n",
            "57026/57026 [==============================] - 0s 0us/step\n"
          ]
        }
      ],
      "source": [
        "# Import Data and Split into Testing and Training\n",
        "(x_train, y_train), (x_test, y_test) = keras.datasets.boston_housing.load_data(seed=42)"
      ]
    },
    {
      "cell_type": "markdown",
      "metadata": {
        "id": "7dnxlvqYMyGz"
      },
      "source": [
        "### Data Exploration"
      ]
    },
    {
      "cell_type": "code",
      "execution_count": 3,
      "metadata": {
        "id": "J3uwRdtIMyGz",
        "outputId": "2459188f-1d7e-4b2e-d142-86e2831da515",
        "colab": {
          "base_uri": "https://localhost:8080/"
        }
      },
      "outputs": [
        {
          "output_type": "stream",
          "name": "stdout",
          "text": [
            "Data Shapes:\n",
            "x_train:(404, 13), y_train:(404,)\n",
            "x_test:(102, 13),  y_test:(102,)\n",
            "\n",
            "Data Types:\n",
            "x_train:<class 'numpy.ndarray'>, y_train:<class 'numpy.ndarray'>\n",
            "x_test:<class 'numpy.ndarray'>,  y_test:<class 'numpy.ndarray'>\n"
          ]
        }
      ],
      "source": [
        "print(\"Data Shapes:\")\n",
        "print(f\"x_train:{x_train.shape}, y_train:{y_train.shape}\\nx_test:{x_test.shape},  y_test:{y_test.shape}\")\n",
        "print()\n",
        "print(\"Data Types:\")\n",
        "print(f\"x_train:{type(x_train)}, y_train:{type(y_train)}\\nx_test:{type(x_test)},  y_test:{type(y_test)}\")"
      ]
    },
    {
      "cell_type": "markdown",
      "metadata": {
        "id": "_0OTq5WAMyG0"
      },
      "source": [
        "**Variables**  \n",
        " Crime:      per capita crime rate by town  \n",
        " Zone:       proportion of residential land zoned for lots over 25,000 sq.ft.  \n",
        " Indus:      proportion of non-retail business acres per town  \n",
        " River:      Charles River dummy variable (= 1 if tract bounds river; 0 otherwise)  \n",
        " Nox:        nitric oxides concentration (parts per 10 million)  \n",
        " Room_num:   average number of rooms per dwelling  \n",
        " Owner:      proportion of owner-occupied units built prior to 1940  \n",
        " Distance:   weighted distances to five Boston employment centres  \n",
        " Highway:    index of accessibility to radial highways  \n",
        " Tax:        full-value property-tax rate per \\\\$10,000  \n",
        " Teacher:    pupil-teacher ratio by town  \n",
        " Lstat:      % lower status of the population  \n",
        " medv:       Median value of owner-occupied homes in $1000's"
      ]
    },
    {
      "cell_type": "code",
      "execution_count": 4,
      "metadata": {
        "id": "wSn_r5i2MyG0",
        "outputId": "08d850c3-8cf5-4f0b-9e45-933163a09ae4",
        "colab": {
          "base_uri": "https://localhost:8080/",
          "height": 424
        }
      },
      "outputs": [
        {
          "output_type": "execute_result",
          "data": {
            "text/plain": [
              "        Crime  Zone  Indus  River    Nox  Room_num  Owner  Distance  Highway  \\\n",
              "0     0.09178   0.0   4.05    0.0  0.510     6.416   84.1    2.6463      5.0   \n",
              "1     0.05644  40.0   6.41    1.0  0.447     6.758   32.9    4.0776      4.0   \n",
              "2     0.10574   0.0  27.74    0.0  0.609     5.983   98.8    1.8681      4.0   \n",
              "3     0.09164   0.0  10.81    0.0  0.413     6.065    7.8    5.2873      4.0   \n",
              "4     5.09017   0.0  18.10    0.0  0.713     6.297   91.8    2.3682     24.0   \n",
              "..        ...   ...    ...    ...    ...       ...    ...       ...      ...   \n",
              "97    0.17120   0.0   8.56    0.0  0.520     5.836   91.9    2.2110      5.0   \n",
              "98    0.29916  20.0   6.96    0.0  0.464     5.856   42.1    4.4290      3.0   \n",
              "99    0.01501  80.0   2.01    0.0  0.435     6.635   29.7    8.3440      4.0   \n",
              "100  11.16040   0.0  18.10    0.0  0.740     6.629   94.6    2.1247     24.0   \n",
              "101   0.22876   0.0   8.56    0.0  0.520     6.405   85.4    2.7147      5.0   \n",
              "\n",
              "       Tax  Teacher   Lstat   Medv  Price  \n",
              "0    296.0     16.6  395.50   9.04   23.6  \n",
              "1    254.0     17.6  396.90   3.53   23.6  \n",
              "2    711.0     20.1  390.11  18.07   23.6  \n",
              "3    305.0     19.2  390.91   5.52   23.6  \n",
              "4    666.0     20.2  385.09  17.27   23.6  \n",
              "..     ...      ...     ...    ...    ...  \n",
              "97   384.0     20.9  395.67  18.66   22.4  \n",
              "98   223.0     18.6  388.65  13.00   22.4  \n",
              "99   280.0     17.0  390.94   5.99   22.4  \n",
              "100  666.0     20.2  109.85  23.27   22.4  \n",
              "101  384.0     20.9   70.80  10.63   22.4  \n",
              "\n",
              "[506 rows x 14 columns]"
            ],
            "text/html": [
              "\n",
              "  <div id=\"df-7abe72e7-cb9c-44f3-90ab-710d57735ea5\">\n",
              "    <div class=\"colab-df-container\">\n",
              "      <div>\n",
              "<style scoped>\n",
              "    .dataframe tbody tr th:only-of-type {\n",
              "        vertical-align: middle;\n",
              "    }\n",
              "\n",
              "    .dataframe tbody tr th {\n",
              "        vertical-align: top;\n",
              "    }\n",
              "\n",
              "    .dataframe thead th {\n",
              "        text-align: right;\n",
              "    }\n",
              "</style>\n",
              "<table border=\"1\" class=\"dataframe\">\n",
              "  <thead>\n",
              "    <tr style=\"text-align: right;\">\n",
              "      <th></th>\n",
              "      <th>Crime</th>\n",
              "      <th>Zone</th>\n",
              "      <th>Indus</th>\n",
              "      <th>River</th>\n",
              "      <th>Nox</th>\n",
              "      <th>Room_num</th>\n",
              "      <th>Owner</th>\n",
              "      <th>Distance</th>\n",
              "      <th>Highway</th>\n",
              "      <th>Tax</th>\n",
              "      <th>Teacher</th>\n",
              "      <th>Lstat</th>\n",
              "      <th>Medv</th>\n",
              "      <th>Price</th>\n",
              "    </tr>\n",
              "  </thead>\n",
              "  <tbody>\n",
              "    <tr>\n",
              "      <th>0</th>\n",
              "      <td>0.09178</td>\n",
              "      <td>0.0</td>\n",
              "      <td>4.05</td>\n",
              "      <td>0.0</td>\n",
              "      <td>0.510</td>\n",
              "      <td>6.416</td>\n",
              "      <td>84.1</td>\n",
              "      <td>2.6463</td>\n",
              "      <td>5.0</td>\n",
              "      <td>296.0</td>\n",
              "      <td>16.6</td>\n",
              "      <td>395.50</td>\n",
              "      <td>9.04</td>\n",
              "      <td>23.6</td>\n",
              "    </tr>\n",
              "    <tr>\n",
              "      <th>1</th>\n",
              "      <td>0.05644</td>\n",
              "      <td>40.0</td>\n",
              "      <td>6.41</td>\n",
              "      <td>1.0</td>\n",
              "      <td>0.447</td>\n",
              "      <td>6.758</td>\n",
              "      <td>32.9</td>\n",
              "      <td>4.0776</td>\n",
              "      <td>4.0</td>\n",
              "      <td>254.0</td>\n",
              "      <td>17.6</td>\n",
              "      <td>396.90</td>\n",
              "      <td>3.53</td>\n",
              "      <td>23.6</td>\n",
              "    </tr>\n",
              "    <tr>\n",
              "      <th>2</th>\n",
              "      <td>0.10574</td>\n",
              "      <td>0.0</td>\n",
              "      <td>27.74</td>\n",
              "      <td>0.0</td>\n",
              "      <td>0.609</td>\n",
              "      <td>5.983</td>\n",
              "      <td>98.8</td>\n",
              "      <td>1.8681</td>\n",
              "      <td>4.0</td>\n",
              "      <td>711.0</td>\n",
              "      <td>20.1</td>\n",
              "      <td>390.11</td>\n",
              "      <td>18.07</td>\n",
              "      <td>23.6</td>\n",
              "    </tr>\n",
              "    <tr>\n",
              "      <th>3</th>\n",
              "      <td>0.09164</td>\n",
              "      <td>0.0</td>\n",
              "      <td>10.81</td>\n",
              "      <td>0.0</td>\n",
              "      <td>0.413</td>\n",
              "      <td>6.065</td>\n",
              "      <td>7.8</td>\n",
              "      <td>5.2873</td>\n",
              "      <td>4.0</td>\n",
              "      <td>305.0</td>\n",
              "      <td>19.2</td>\n",
              "      <td>390.91</td>\n",
              "      <td>5.52</td>\n",
              "      <td>23.6</td>\n",
              "    </tr>\n",
              "    <tr>\n",
              "      <th>4</th>\n",
              "      <td>5.09017</td>\n",
              "      <td>0.0</td>\n",
              "      <td>18.10</td>\n",
              "      <td>0.0</td>\n",
              "      <td>0.713</td>\n",
              "      <td>6.297</td>\n",
              "      <td>91.8</td>\n",
              "      <td>2.3682</td>\n",
              "      <td>24.0</td>\n",
              "      <td>666.0</td>\n",
              "      <td>20.2</td>\n",
              "      <td>385.09</td>\n",
              "      <td>17.27</td>\n",
              "      <td>23.6</td>\n",
              "    </tr>\n",
              "    <tr>\n",
              "      <th>...</th>\n",
              "      <td>...</td>\n",
              "      <td>...</td>\n",
              "      <td>...</td>\n",
              "      <td>...</td>\n",
              "      <td>...</td>\n",
              "      <td>...</td>\n",
              "      <td>...</td>\n",
              "      <td>...</td>\n",
              "      <td>...</td>\n",
              "      <td>...</td>\n",
              "      <td>...</td>\n",
              "      <td>...</td>\n",
              "      <td>...</td>\n",
              "      <td>...</td>\n",
              "    </tr>\n",
              "    <tr>\n",
              "      <th>97</th>\n",
              "      <td>0.17120</td>\n",
              "      <td>0.0</td>\n",
              "      <td>8.56</td>\n",
              "      <td>0.0</td>\n",
              "      <td>0.520</td>\n",
              "      <td>5.836</td>\n",
              "      <td>91.9</td>\n",
              "      <td>2.2110</td>\n",
              "      <td>5.0</td>\n",
              "      <td>384.0</td>\n",
              "      <td>20.9</td>\n",
              "      <td>395.67</td>\n",
              "      <td>18.66</td>\n",
              "      <td>22.4</td>\n",
              "    </tr>\n",
              "    <tr>\n",
              "      <th>98</th>\n",
              "      <td>0.29916</td>\n",
              "      <td>20.0</td>\n",
              "      <td>6.96</td>\n",
              "      <td>0.0</td>\n",
              "      <td>0.464</td>\n",
              "      <td>5.856</td>\n",
              "      <td>42.1</td>\n",
              "      <td>4.4290</td>\n",
              "      <td>3.0</td>\n",
              "      <td>223.0</td>\n",
              "      <td>18.6</td>\n",
              "      <td>388.65</td>\n",
              "      <td>13.00</td>\n",
              "      <td>22.4</td>\n",
              "    </tr>\n",
              "    <tr>\n",
              "      <th>99</th>\n",
              "      <td>0.01501</td>\n",
              "      <td>80.0</td>\n",
              "      <td>2.01</td>\n",
              "      <td>0.0</td>\n",
              "      <td>0.435</td>\n",
              "      <td>6.635</td>\n",
              "      <td>29.7</td>\n",
              "      <td>8.3440</td>\n",
              "      <td>4.0</td>\n",
              "      <td>280.0</td>\n",
              "      <td>17.0</td>\n",
              "      <td>390.94</td>\n",
              "      <td>5.99</td>\n",
              "      <td>22.4</td>\n",
              "    </tr>\n",
              "    <tr>\n",
              "      <th>100</th>\n",
              "      <td>11.16040</td>\n",
              "      <td>0.0</td>\n",
              "      <td>18.10</td>\n",
              "      <td>0.0</td>\n",
              "      <td>0.740</td>\n",
              "      <td>6.629</td>\n",
              "      <td>94.6</td>\n",
              "      <td>2.1247</td>\n",
              "      <td>24.0</td>\n",
              "      <td>666.0</td>\n",
              "      <td>20.2</td>\n",
              "      <td>109.85</td>\n",
              "      <td>23.27</td>\n",
              "      <td>22.4</td>\n",
              "    </tr>\n",
              "    <tr>\n",
              "      <th>101</th>\n",
              "      <td>0.22876</td>\n",
              "      <td>0.0</td>\n",
              "      <td>8.56</td>\n",
              "      <td>0.0</td>\n",
              "      <td>0.520</td>\n",
              "      <td>6.405</td>\n",
              "      <td>85.4</td>\n",
              "      <td>2.7147</td>\n",
              "      <td>5.0</td>\n",
              "      <td>384.0</td>\n",
              "      <td>20.9</td>\n",
              "      <td>70.80</td>\n",
              "      <td>10.63</td>\n",
              "      <td>22.4</td>\n",
              "    </tr>\n",
              "  </tbody>\n",
              "</table>\n",
              "<p>506 rows × 14 columns</p>\n",
              "</div>\n",
              "      <button class=\"colab-df-convert\" onclick=\"convertToInteractive('df-7abe72e7-cb9c-44f3-90ab-710d57735ea5')\"\n",
              "              title=\"Convert this dataframe to an interactive table.\"\n",
              "              style=\"display:none;\">\n",
              "        \n",
              "  <svg xmlns=\"http://www.w3.org/2000/svg\" height=\"24px\"viewBox=\"0 0 24 24\"\n",
              "       width=\"24px\">\n",
              "    <path d=\"M0 0h24v24H0V0z\" fill=\"none\"/>\n",
              "    <path d=\"M18.56 5.44l.94 2.06.94-2.06 2.06-.94-2.06-.94-.94-2.06-.94 2.06-2.06.94zm-11 1L8.5 8.5l.94-2.06 2.06-.94-2.06-.94L8.5 2.5l-.94 2.06-2.06.94zm10 10l.94 2.06.94-2.06 2.06-.94-2.06-.94-.94-2.06-.94 2.06-2.06.94z\"/><path d=\"M17.41 7.96l-1.37-1.37c-.4-.4-.92-.59-1.43-.59-.52 0-1.04.2-1.43.59L10.3 9.45l-7.72 7.72c-.78.78-.78 2.05 0 2.83L4 21.41c.39.39.9.59 1.41.59.51 0 1.02-.2 1.41-.59l7.78-7.78 2.81-2.81c.8-.78.8-2.07 0-2.86zM5.41 20L4 18.59l7.72-7.72 1.47 1.35L5.41 20z\"/>\n",
              "  </svg>\n",
              "      </button>\n",
              "      \n",
              "  <style>\n",
              "    .colab-df-container {\n",
              "      display:flex;\n",
              "      flex-wrap:wrap;\n",
              "      gap: 12px;\n",
              "    }\n",
              "\n",
              "    .colab-df-convert {\n",
              "      background-color: #E8F0FE;\n",
              "      border: none;\n",
              "      border-radius: 50%;\n",
              "      cursor: pointer;\n",
              "      display: none;\n",
              "      fill: #1967D2;\n",
              "      height: 32px;\n",
              "      padding: 0 0 0 0;\n",
              "      width: 32px;\n",
              "    }\n",
              "\n",
              "    .colab-df-convert:hover {\n",
              "      background-color: #E2EBFA;\n",
              "      box-shadow: 0px 1px 2px rgba(60, 64, 67, 0.3), 0px 1px 3px 1px rgba(60, 64, 67, 0.15);\n",
              "      fill: #174EA6;\n",
              "    }\n",
              "\n",
              "    [theme=dark] .colab-df-convert {\n",
              "      background-color: #3B4455;\n",
              "      fill: #D2E3FC;\n",
              "    }\n",
              "\n",
              "    [theme=dark] .colab-df-convert:hover {\n",
              "      background-color: #434B5C;\n",
              "      box-shadow: 0px 1px 3px 1px rgba(0, 0, 0, 0.15);\n",
              "      filter: drop-shadow(0px 1px 2px rgba(0, 0, 0, 0.3));\n",
              "      fill: #FFFFFF;\n",
              "    }\n",
              "  </style>\n",
              "\n",
              "      <script>\n",
              "        const buttonEl =\n",
              "          document.querySelector('#df-7abe72e7-cb9c-44f3-90ab-710d57735ea5 button.colab-df-convert');\n",
              "        buttonEl.style.display =\n",
              "          google.colab.kernel.accessAllowed ? 'block' : 'none';\n",
              "\n",
              "        async function convertToInteractive(key) {\n",
              "          const element = document.querySelector('#df-7abe72e7-cb9c-44f3-90ab-710d57735ea5');\n",
              "          const dataTable =\n",
              "            await google.colab.kernel.invokeFunction('convertToInteractive',\n",
              "                                                     [key], {});\n",
              "          if (!dataTable) return;\n",
              "\n",
              "          const docLinkHtml = 'Like what you see? Visit the ' +\n",
              "            '<a target=\"_blank\" href=https://colab.research.google.com/notebooks/data_table.ipynb>data table notebook</a>'\n",
              "            + ' to learn more about interactive tables.';\n",
              "          element.innerHTML = '';\n",
              "          dataTable['output_type'] = 'display_data';\n",
              "          await google.colab.output.renderOutput(dataTable, element);\n",
              "          const docLink = document.createElement('div');\n",
              "          docLink.innerHTML = docLinkHtml;\n",
              "          element.appendChild(docLink);\n",
              "        }\n",
              "      </script>\n",
              "    </div>\n",
              "  </div>\n",
              "  "
            ]
          },
          "metadata": {},
          "execution_count": 4
        }
      ],
      "source": [
        "# Create Labels\n",
        "labels = ['Crime','Zone','Indus','River','Nox','Room_num','Owner','Distance','Highway','Tax','Teacher','Lstat','Medv']\n",
        "# Create Dataframe from train\n",
        "df = pd.DataFrame(x_train, columns=labels)\n",
        "df['Price'] = y_train[0]\n",
        "# Create Dataframe from test\n",
        "dfa = pd.DataFrame(x_test, columns=labels)\n",
        "dfa['Price'] = y_test[0]\n",
        "# Merge test to train df\n",
        "df = df.append(dfa)\n",
        "df"
      ]
    },
    {
      "cell_type": "code",
      "execution_count": 5,
      "metadata": {
        "id": "aWggKOf9MyG1",
        "outputId": "b84d67f6-548c-4b95-b50b-7813b0f890d8",
        "colab": {
          "base_uri": "https://localhost:8080/",
          "height": 364
        }
      },
      "outputs": [
        {
          "output_type": "execute_result",
          "data": {
            "text/plain": [
              "            Crime        Zone       Indus       River         Nox    Room_num  \\\n",
              "count  506.000000  506.000000  506.000000  506.000000  506.000000  506.000000   \n",
              "mean     3.613524   11.363636   11.136779    0.069170    0.554695    6.284634   \n",
              "std      8.601545   23.322453    6.860353    0.253994    0.115878    0.702617   \n",
              "min      0.006320    0.000000    0.460000    0.000000    0.385000    3.561000   \n",
              "25%      0.082045    0.000000    5.190000    0.000000    0.449000    5.885500   \n",
              "50%      0.256510    0.000000    9.690000    0.000000    0.538000    6.208500   \n",
              "75%      3.677083   12.500000   18.100000    0.000000    0.624000    6.623500   \n",
              "max     88.976200  100.000000   27.740000    1.000000    0.871000    8.780000   \n",
              "\n",
              "            Owner    Distance     Highway         Tax     Teacher       Lstat  \\\n",
              "count  506.000000  506.000000  506.000000  506.000000  506.000000  506.000000   \n",
              "mean    68.574901    3.795043    9.549407  408.237154   18.455534  356.674032   \n",
              "std     28.148861    2.105710    8.707259  168.537116    2.164946   91.294864   \n",
              "min      2.900000    1.129600    1.000000  187.000000   12.600000    0.320000   \n",
              "25%     45.025000    2.100175    4.000000  279.000000   17.400000  375.377500   \n",
              "50%     77.500000    3.207450    5.000000  330.000000   19.050000  391.440000   \n",
              "75%     94.075000    5.188425   24.000000  666.000000   20.200000  396.225000   \n",
              "max    100.000000   12.126500   24.000000  711.000000   22.000000  396.900000   \n",
              "\n",
              "             Medv       Price  \n",
              "count  506.000000  506.000000  \n",
              "mean    12.653063   23.358103  \n",
              "std      7.141062    0.481893  \n",
              "min      1.730000   22.400000  \n",
              "25%      6.950000   23.600000  \n",
              "50%     11.360000   23.600000  \n",
              "75%     16.955000   23.600000  \n",
              "max     37.970000   23.600000  "
            ],
            "text/html": [
              "\n",
              "  <div id=\"df-e7f48223-3ba3-4271-baf2-1f8a7eff4a9c\">\n",
              "    <div class=\"colab-df-container\">\n",
              "      <div>\n",
              "<style scoped>\n",
              "    .dataframe tbody tr th:only-of-type {\n",
              "        vertical-align: middle;\n",
              "    }\n",
              "\n",
              "    .dataframe tbody tr th {\n",
              "        vertical-align: top;\n",
              "    }\n",
              "\n",
              "    .dataframe thead th {\n",
              "        text-align: right;\n",
              "    }\n",
              "</style>\n",
              "<table border=\"1\" class=\"dataframe\">\n",
              "  <thead>\n",
              "    <tr style=\"text-align: right;\">\n",
              "      <th></th>\n",
              "      <th>Crime</th>\n",
              "      <th>Zone</th>\n",
              "      <th>Indus</th>\n",
              "      <th>River</th>\n",
              "      <th>Nox</th>\n",
              "      <th>Room_num</th>\n",
              "      <th>Owner</th>\n",
              "      <th>Distance</th>\n",
              "      <th>Highway</th>\n",
              "      <th>Tax</th>\n",
              "      <th>Teacher</th>\n",
              "      <th>Lstat</th>\n",
              "      <th>Medv</th>\n",
              "      <th>Price</th>\n",
              "    </tr>\n",
              "  </thead>\n",
              "  <tbody>\n",
              "    <tr>\n",
              "      <th>count</th>\n",
              "      <td>506.000000</td>\n",
              "      <td>506.000000</td>\n",
              "      <td>506.000000</td>\n",
              "      <td>506.000000</td>\n",
              "      <td>506.000000</td>\n",
              "      <td>506.000000</td>\n",
              "      <td>506.000000</td>\n",
              "      <td>506.000000</td>\n",
              "      <td>506.000000</td>\n",
              "      <td>506.000000</td>\n",
              "      <td>506.000000</td>\n",
              "      <td>506.000000</td>\n",
              "      <td>506.000000</td>\n",
              "      <td>506.000000</td>\n",
              "    </tr>\n",
              "    <tr>\n",
              "      <th>mean</th>\n",
              "      <td>3.613524</td>\n",
              "      <td>11.363636</td>\n",
              "      <td>11.136779</td>\n",
              "      <td>0.069170</td>\n",
              "      <td>0.554695</td>\n",
              "      <td>6.284634</td>\n",
              "      <td>68.574901</td>\n",
              "      <td>3.795043</td>\n",
              "      <td>9.549407</td>\n",
              "      <td>408.237154</td>\n",
              "      <td>18.455534</td>\n",
              "      <td>356.674032</td>\n",
              "      <td>12.653063</td>\n",
              "      <td>23.358103</td>\n",
              "    </tr>\n",
              "    <tr>\n",
              "      <th>std</th>\n",
              "      <td>8.601545</td>\n",
              "      <td>23.322453</td>\n",
              "      <td>6.860353</td>\n",
              "      <td>0.253994</td>\n",
              "      <td>0.115878</td>\n",
              "      <td>0.702617</td>\n",
              "      <td>28.148861</td>\n",
              "      <td>2.105710</td>\n",
              "      <td>8.707259</td>\n",
              "      <td>168.537116</td>\n",
              "      <td>2.164946</td>\n",
              "      <td>91.294864</td>\n",
              "      <td>7.141062</td>\n",
              "      <td>0.481893</td>\n",
              "    </tr>\n",
              "    <tr>\n",
              "      <th>min</th>\n",
              "      <td>0.006320</td>\n",
              "      <td>0.000000</td>\n",
              "      <td>0.460000</td>\n",
              "      <td>0.000000</td>\n",
              "      <td>0.385000</td>\n",
              "      <td>3.561000</td>\n",
              "      <td>2.900000</td>\n",
              "      <td>1.129600</td>\n",
              "      <td>1.000000</td>\n",
              "      <td>187.000000</td>\n",
              "      <td>12.600000</td>\n",
              "      <td>0.320000</td>\n",
              "      <td>1.730000</td>\n",
              "      <td>22.400000</td>\n",
              "    </tr>\n",
              "    <tr>\n",
              "      <th>25%</th>\n",
              "      <td>0.082045</td>\n",
              "      <td>0.000000</td>\n",
              "      <td>5.190000</td>\n",
              "      <td>0.000000</td>\n",
              "      <td>0.449000</td>\n",
              "      <td>5.885500</td>\n",
              "      <td>45.025000</td>\n",
              "      <td>2.100175</td>\n",
              "      <td>4.000000</td>\n",
              "      <td>279.000000</td>\n",
              "      <td>17.400000</td>\n",
              "      <td>375.377500</td>\n",
              "      <td>6.950000</td>\n",
              "      <td>23.600000</td>\n",
              "    </tr>\n",
              "    <tr>\n",
              "      <th>50%</th>\n",
              "      <td>0.256510</td>\n",
              "      <td>0.000000</td>\n",
              "      <td>9.690000</td>\n",
              "      <td>0.000000</td>\n",
              "      <td>0.538000</td>\n",
              "      <td>6.208500</td>\n",
              "      <td>77.500000</td>\n",
              "      <td>3.207450</td>\n",
              "      <td>5.000000</td>\n",
              "      <td>330.000000</td>\n",
              "      <td>19.050000</td>\n",
              "      <td>391.440000</td>\n",
              "      <td>11.360000</td>\n",
              "      <td>23.600000</td>\n",
              "    </tr>\n",
              "    <tr>\n",
              "      <th>75%</th>\n",
              "      <td>3.677083</td>\n",
              "      <td>12.500000</td>\n",
              "      <td>18.100000</td>\n",
              "      <td>0.000000</td>\n",
              "      <td>0.624000</td>\n",
              "      <td>6.623500</td>\n",
              "      <td>94.075000</td>\n",
              "      <td>5.188425</td>\n",
              "      <td>24.000000</td>\n",
              "      <td>666.000000</td>\n",
              "      <td>20.200000</td>\n",
              "      <td>396.225000</td>\n",
              "      <td>16.955000</td>\n",
              "      <td>23.600000</td>\n",
              "    </tr>\n",
              "    <tr>\n",
              "      <th>max</th>\n",
              "      <td>88.976200</td>\n",
              "      <td>100.000000</td>\n",
              "      <td>27.740000</td>\n",
              "      <td>1.000000</td>\n",
              "      <td>0.871000</td>\n",
              "      <td>8.780000</td>\n",
              "      <td>100.000000</td>\n",
              "      <td>12.126500</td>\n",
              "      <td>24.000000</td>\n",
              "      <td>711.000000</td>\n",
              "      <td>22.000000</td>\n",
              "      <td>396.900000</td>\n",
              "      <td>37.970000</td>\n",
              "      <td>23.600000</td>\n",
              "    </tr>\n",
              "  </tbody>\n",
              "</table>\n",
              "</div>\n",
              "      <button class=\"colab-df-convert\" onclick=\"convertToInteractive('df-e7f48223-3ba3-4271-baf2-1f8a7eff4a9c')\"\n",
              "              title=\"Convert this dataframe to an interactive table.\"\n",
              "              style=\"display:none;\">\n",
              "        \n",
              "  <svg xmlns=\"http://www.w3.org/2000/svg\" height=\"24px\"viewBox=\"0 0 24 24\"\n",
              "       width=\"24px\">\n",
              "    <path d=\"M0 0h24v24H0V0z\" fill=\"none\"/>\n",
              "    <path d=\"M18.56 5.44l.94 2.06.94-2.06 2.06-.94-2.06-.94-.94-2.06-.94 2.06-2.06.94zm-11 1L8.5 8.5l.94-2.06 2.06-.94-2.06-.94L8.5 2.5l-.94 2.06-2.06.94zm10 10l.94 2.06.94-2.06 2.06-.94-2.06-.94-.94-2.06-.94 2.06-2.06.94z\"/><path d=\"M17.41 7.96l-1.37-1.37c-.4-.4-.92-.59-1.43-.59-.52 0-1.04.2-1.43.59L10.3 9.45l-7.72 7.72c-.78.78-.78 2.05 0 2.83L4 21.41c.39.39.9.59 1.41.59.51 0 1.02-.2 1.41-.59l7.78-7.78 2.81-2.81c.8-.78.8-2.07 0-2.86zM5.41 20L4 18.59l7.72-7.72 1.47 1.35L5.41 20z\"/>\n",
              "  </svg>\n",
              "      </button>\n",
              "      \n",
              "  <style>\n",
              "    .colab-df-container {\n",
              "      display:flex;\n",
              "      flex-wrap:wrap;\n",
              "      gap: 12px;\n",
              "    }\n",
              "\n",
              "    .colab-df-convert {\n",
              "      background-color: #E8F0FE;\n",
              "      border: none;\n",
              "      border-radius: 50%;\n",
              "      cursor: pointer;\n",
              "      display: none;\n",
              "      fill: #1967D2;\n",
              "      height: 32px;\n",
              "      padding: 0 0 0 0;\n",
              "      width: 32px;\n",
              "    }\n",
              "\n",
              "    .colab-df-convert:hover {\n",
              "      background-color: #E2EBFA;\n",
              "      box-shadow: 0px 1px 2px rgba(60, 64, 67, 0.3), 0px 1px 3px 1px rgba(60, 64, 67, 0.15);\n",
              "      fill: #174EA6;\n",
              "    }\n",
              "\n",
              "    [theme=dark] .colab-df-convert {\n",
              "      background-color: #3B4455;\n",
              "      fill: #D2E3FC;\n",
              "    }\n",
              "\n",
              "    [theme=dark] .colab-df-convert:hover {\n",
              "      background-color: #434B5C;\n",
              "      box-shadow: 0px 1px 3px 1px rgba(0, 0, 0, 0.15);\n",
              "      filter: drop-shadow(0px 1px 2px rgba(0, 0, 0, 0.3));\n",
              "      fill: #FFFFFF;\n",
              "    }\n",
              "  </style>\n",
              "\n",
              "      <script>\n",
              "        const buttonEl =\n",
              "          document.querySelector('#df-e7f48223-3ba3-4271-baf2-1f8a7eff4a9c button.colab-df-convert');\n",
              "        buttonEl.style.display =\n",
              "          google.colab.kernel.accessAllowed ? 'block' : 'none';\n",
              "\n",
              "        async function convertToInteractive(key) {\n",
              "          const element = document.querySelector('#df-e7f48223-3ba3-4271-baf2-1f8a7eff4a9c');\n",
              "          const dataTable =\n",
              "            await google.colab.kernel.invokeFunction('convertToInteractive',\n",
              "                                                     [key], {});\n",
              "          if (!dataTable) return;\n",
              "\n",
              "          const docLinkHtml = 'Like what you see? Visit the ' +\n",
              "            '<a target=\"_blank\" href=https://colab.research.google.com/notebooks/data_table.ipynb>data table notebook</a>'\n",
              "            + ' to learn more about interactive tables.';\n",
              "          element.innerHTML = '';\n",
              "          dataTable['output_type'] = 'display_data';\n",
              "          await google.colab.output.renderOutput(dataTable, element);\n",
              "          const docLink = document.createElement('div');\n",
              "          docLink.innerHTML = docLinkHtml;\n",
              "          element.appendChild(docLink);\n",
              "        }\n",
              "      </script>\n",
              "    </div>\n",
              "  </div>\n",
              "  "
            ]
          },
          "metadata": {},
          "execution_count": 5
        }
      ],
      "source": [
        "# Summary stats\n",
        "df.describe()"
      ]
    },
    {
      "cell_type": "code",
      "execution_count": 6,
      "metadata": {
        "id": "HqECCKaeMyG1",
        "outputId": "4daabbbe-6b36-4b70-e196-fbcceb84fbde",
        "colab": {
          "base_uri": "https://localhost:8080/",
          "height": 691
        }
      },
      "outputs": [
        {
          "output_type": "display_data",
          "data": {
            "text/plain": [
              "<Figure size 792x792 with 1 Axes>"
            ],
            "image/png": "[encoded data removed]"
          },
          "metadata": {
            "needs_background": "light"
          }
        }
      ],
      "source": [
        "# Correlatoin Matrix\n",
        "matrix = df.corr().round(2)\n",
        "fig, ax = plt.subplots(figsize=(11, 11))\n",
        "sns.heatmap(matrix, annot=True,cbar=False,cmap='vlag')\n",
        "plt.show()"
      ]
    },
    {
      "cell_type": "markdown",
      "metadata": {
        "id": "uCPmavJuMyG1"
      },
      "source": [
        "### Normalize data"
      ]
    },
    {
      "cell_type": "code",
      "execution_count": 7,
      "metadata": {
        "id": "f2ZO--gAMyG2"
      },
      "outputs": [],
      "source": [
        "scaler = MinMaxScaler()\n",
        "# Scale images to the [0, 1] range\n",
        "x_train_scaled = scaler.fit_transform(x_train)\n",
        "x_test_scaled = scaler.transform(x_test)"
      ]
    },
    {
      "cell_type": "code",
      "execution_count": 8,
      "metadata": {
        "id": "SRLkD16uMyG2",
        "outputId": "283929ad-2e69-461d-cb3b-60fec65d7069",
        "colab": {
          "base_uri": "https://localhost:8080/"
        }
      },
      "outputs": [
        {
          "output_type": "stream",
          "name": "stdout",
          "text": [
            "0     0.0\n",
            "1     0.0\n",
            "2     0.0\n",
            "3     0.0\n",
            "4     0.0\n",
            "5     0.0\n",
            "6     0.0\n",
            "7     0.0\n",
            "8     0.0\n",
            "9     0.0\n",
            "10    0.0\n",
            "11    0.0\n",
            "12    0.0\n",
            "dtype: float64 0     1.0\n",
            "1     1.0\n",
            "2     1.0\n",
            "3     1.0\n",
            "4     1.0\n",
            "5     1.0\n",
            "6     1.0\n",
            "7     1.0\n",
            "8     1.0\n",
            "9     1.0\n",
            "10    1.0\n",
            "11    1.0\n",
            "12    1.0\n",
            "dtype: float64\n"
          ]
        }
      ],
      "source": [
        "# Check that Data was scaled properly with Min at 0 and Max at 1\n",
        "print(pd.DataFrame(x_train_scaled).min(),pd.DataFrame(x_train_scaled).max())"
      ]
    },
    {
      "cell_type": "markdown",
      "source": [
        "# Start of SVR"
      ],
      "metadata": {
        "id": "0Ae-TdmrNIXe"
      }
    },
    {
      "cell_type": "code",
      "source": [
        "from sklearn.svm import SVR"
      ],
      "metadata": {
        "id": "czobt-_kNKcF"
      },
      "execution_count": 9,
      "outputs": []
    },
    {
      "cell_type": "code",
      "source": [
        "regressor = SVR(kernel= 'rbf')\n",
        "regressor.fit(x_train, y_train)"
      ],
      "metadata": {
        "id": "B8v66D0KNKnq",
        "colab": {
          "base_uri": "https://localhost:8080/"
        },
        "outputId": "40555885-0f3d-4b38-9c62-39a97c9f549a"
      },
      "execution_count": 10,
      "outputs": [
        {
          "output_type": "execute_result",
          "data": {
            "text/plain": [
              "SVR()"
            ]
          },
          "metadata": {},
          "execution_count": 10
        }
      ]
    },
    {
      "cell_type": "markdown",
      "source": [
        "Predict Model"
      ],
      "metadata": {
        "id": "xSxbw6xzPXje"
      }
    },
    {
      "cell_type": "code",
      "source": [
        "predictions_svr = regressor.predict(x_test)\n",
        "predictions_svr.shape"
      ],
      "metadata": {
        "colab": {
          "base_uri": "https://localhost:8080/"
        },
        "id": "J8296q13PW9s",
        "outputId": "6b393598-31fd-49da-9182-7c3e44454847"
      },
      "execution_count": 11,
      "outputs": [
        {
          "output_type": "execute_result",
          "data": {
            "text/plain": [
              "(102,)"
            ]
          },
          "metadata": {},
          "execution_count": 11
        }
      ]
    },
    {
      "cell_type": "markdown",
      "source": [
        "Model Score"
      ],
      "metadata": {
        "id": "O4b98NRoQOnL"
      }
    },
    {
      "cell_type": "code",
      "source": [
        "regressor.score(x_test, y_test)"
      ],
      "metadata": {
        "colab": {
          "base_uri": "https://localhost:8080/"
        },
        "id": "nzCFwIXtPXGy",
        "outputId": "0a82e94e-dad3-4587-d9ae-0e8b36a4a614"
      },
      "execution_count": 12,
      "outputs": [
        {
          "output_type": "execute_result",
          "data": {
            "text/plain": [
              "0.08746060282552581"
            ]
          },
          "metadata": {},
          "execution_count": 12
        }
      ]
    },
    {
      "cell_type": "markdown",
      "source": [
        "Visualize Results"
      ],
      "metadata": {
        "id": "NLthFJlbPfwv"
      }
    },
    {
      "cell_type": "code",
      "source": [
        "plt.scatter(y_test, predictions_svr, color = 'red')\n",
        "#plt.plot(predictions, y_test, color = 'blue')\n",
        "plt.title('SVR Results')\n",
        "plt.xlabel('y_test')\n",
        "plt.ylabel('predictions_svr')"
      ],
      "metadata": {
        "colab": {
          "base_uri": "https://localhost:8080/",
          "height": 313
        },
        "id": "5H_W9q7FQRlN",
        "outputId": "ef461abf-c8fb-413e-a2ab-9ce68ac9f749"
      },
      "execution_count": 13,
      "outputs": [
        {
          "output_type": "execute_result",
          "data": {
            "text/plain": [
              "Text(0, 0.5, 'predictions_svr')"
            ]
          },
          "metadata": {},
          "execution_count": 13
        },
        {
          "output_type": "display_data",
          "data": {
            "text/plain": [
              "<Figure size 432x288 with 1 Axes>"
            ],
            "image/png": "[encoded data removed]"
          },
          "metadata": {
            "needs_background": "light"
          }
        }
      ]
    },
    {
      "cell_type": "markdown",
      "source": [
        "# Tuning Process\n",
        "First identify current parameters, then systematically change them to improve model"
      ],
      "metadata": {
        "id": "Up0Hz4Ntk4hD"
      }
    },
    {
      "cell_type": "code",
      "source": [
        "regressor.get_params()"
      ],
      "metadata": {
        "colab": {
          "base_uri": "https://localhost:8080/"
        },
        "id": "JYNGnE-FlCDb",
        "outputId": "676f181e-fc82-46da-a8ab-b0fc475ca946"
      },
      "execution_count": 14,
      "outputs": [
        {
          "output_type": "execute_result",
          "data": {
            "text/plain": [
              "{'C': 1.0,\n",
              " 'cache_size': 200,\n",
              " 'coef0': 0.0,\n",
              " 'degree': 3,\n",
              " 'epsilon': 0.1,\n",
              " 'gamma': 'scale',\n",
              " 'kernel': 'rbf',\n",
              " 'max_iter': -1,\n",
              " 'shrinking': True,\n",
              " 'tol': 0.001,\n",
              " 'verbose': False}"
            ]
          },
          "metadata": {},
          "execution_count": 14
        }
      ]
    },
    {
      "cell_type": "markdown",
      "source": [
        "Parameters to change during tuning\n",
        "\n",
        "Kernel:  linear, poly, sigmoid\n",
        "\n",
        "epsilon: .15, 0.2, 0.25 \n",
        "\n",
        "C:  2.0, 3.0, 5.0, 6.0, 7.5, 10.0, 15.0\n",
        "\n",
        "degree:  14"
      ],
      "metadata": {
        "id": "v-6mAMMVlSrj"
      }
    },
    {
      "cell_type": "markdown",
      "source": [
        "# Kernal Tuning"
      ],
      "metadata": {
        "id": "9Zb_jdMtzrlu"
      }
    },
    {
      "cell_type": "markdown",
      "source": [
        "Results:  kernel = 'linear'"
      ],
      "metadata": {
        "id": "aOVG99_x2QbU"
      }
    },
    {
      "cell_type": "code",
      "source": [
        "regressor_kern = SVR(kernel= 'linear')\n",
        "regressor_kern.fit(x_train, y_train)"
      ],
      "metadata": {
        "colab": {
          "base_uri": "https://localhost:8080/"
        },
        "outputId": "6e4edc66-2dac-4d62-ce5b-b6a571eec69c",
        "id": "aLT1PDWimA1F"
      },
      "execution_count": 15,
      "outputs": [
        {
          "output_type": "execute_result",
          "data": {
            "text/plain": [
              "SVR(kernel='linear')"
            ]
          },
          "metadata": {},
          "execution_count": 15
        }
      ]
    },
    {
      "cell_type": "markdown",
      "source": [
        "Model Score"
      ],
      "metadata": {
        "id": "XPc_nGV6mA1G"
      }
    },
    {
      "cell_type": "code",
      "source": [
        "regressor_kern.score(x_test, y_test)"
      ],
      "metadata": {
        "colab": {
          "base_uri": "https://localhost:8080/"
        },
        "outputId": "2e97665c-b2f1-4124-b033-0200da1ff644",
        "id": "K3MZXz3bmA1G"
      },
      "execution_count": 16,
      "outputs": [
        {
          "output_type": "execute_result",
          "data": {
            "text/plain": [
              "0.6763595229603985"
            ]
          },
          "metadata": {},
          "execution_count": 16
        }
      ]
    },
    {
      "cell_type": "markdown",
      "source": [
        "**increased to 67.63595229603985%, keep this change.  All other options were well below this score.**"
      ],
      "metadata": {
        "id": "RqyarWTRmOp6"
      }
    },
    {
      "cell_type": "markdown",
      "source": [
        "Results:  kernel = 'poly'"
      ],
      "metadata": {
        "id": "CkSSZWHr2ctI"
      }
    },
    {
      "cell_type": "code",
      "source": [
        "regressor_kern = SVR(kernel= 'poly')\n",
        "regressor_kern.fit(x_train, y_train)"
      ],
      "metadata": {
        "colab": {
          "base_uri": "https://localhost:8080/"
        },
        "outputId": "b870885a-35e5-4a57-83af-88dbb504ec9f",
        "id": "ToAOXsWV2ctJ"
      },
      "execution_count": 17,
      "outputs": [
        {
          "output_type": "execute_result",
          "data": {
            "text/plain": [
              "SVR(kernel='poly')"
            ]
          },
          "metadata": {},
          "execution_count": 17
        }
      ]
    },
    {
      "cell_type": "markdown",
      "source": [
        "Model Score"
      ],
      "metadata": {
        "id": "J3MVQSxU2ctJ"
      }
    },
    {
      "cell_type": "code",
      "source": [
        "regressor_kern.score(x_test, y_test)"
      ],
      "metadata": {
        "colab": {
          "base_uri": "https://localhost:8080/"
        },
        "outputId": "053b9549-9093-4dcd-f3b6-5b943fe68468",
        "id": "sJwbPtIn2ctJ"
      },
      "execution_count": 18,
      "outputs": [
        {
          "output_type": "execute_result",
          "data": {
            "text/plain": [
              "0.13614902792661177"
            ]
          },
          "metadata": {},
          "execution_count": 18
        }
      ]
    },
    {
      "cell_type": "markdown",
      "source": [
        "score decreased to 13.614902792661177%"
      ],
      "metadata": {
        "id": "hAUrU50D2ctJ"
      }
    },
    {
      "cell_type": "markdown",
      "source": [
        "Results:  kernel = 'sigmoid'"
      ],
      "metadata": {
        "id": "RDx_NFy22uRX"
      }
    },
    {
      "cell_type": "code",
      "source": [
        "regressor_kern = SVR(kernel= 'sigmoid')\n",
        "regressor_kern.fit(x_train, y_train)"
      ],
      "metadata": {
        "colab": {
          "base_uri": "https://localhost:8080/"
        },
        "outputId": "af193b67-65bc-4b2c-98f9-47f3c7747f7e",
        "id": "xo_8ZY7j2uRX"
      },
      "execution_count": 19,
      "outputs": [
        {
          "output_type": "execute_result",
          "data": {
            "text/plain": [
              "SVR(kernel='sigmoid')"
            ]
          },
          "metadata": {},
          "execution_count": 19
        }
      ]
    },
    {
      "cell_type": "markdown",
      "source": [
        "Model Score"
      ],
      "metadata": {
        "id": "_F2pn9uX2uRX"
      }
    },
    {
      "cell_type": "code",
      "source": [
        "regressor_kern.score(x_test, y_test)"
      ],
      "metadata": {
        "colab": {
          "base_uri": "https://localhost:8080/"
        },
        "outputId": "9ab7d9fa-4073-4a70-99fa-2f0d3e4418ab",
        "id": "tv1LFSdu2uRX"
      },
      "execution_count": 20,
      "outputs": [
        {
          "output_type": "execute_result",
          "data": {
            "text/plain": [
              "-0.00339619883644926"
            ]
          },
          "metadata": {},
          "execution_count": 20
        }
      ]
    },
    {
      "cell_type": "markdown",
      "source": [
        "Score decreased to -00.339619883644926%"
      ],
      "metadata": {
        "id": "dvoTUHRN2uRX"
      }
    },
    {
      "cell_type": "markdown",
      "source": [
        "Kernal Tuning Results\n",
        "\n",
        "linear:  67.63595229603985%\n",
        "\n",
        "ploy:  13.614902792661177%\n",
        "\n",
        "sigmoid:  -00.339619883644926%\n",
        "\n",
        "**Keep linear tuning in model**"
      ],
      "metadata": {
        "id": "JnX-H9C660Ro"
      }
    },
    {
      "cell_type": "markdown",
      "source": [
        "# Epsilon Tuning"
      ],
      "metadata": {
        "id": "f1HQs4wZzv8D"
      }
    },
    {
      "cell_type": "markdown",
      "source": [
        "## Epsilon 0.15"
      ],
      "metadata": {
        "id": "DlwptQGT7fRb"
      }
    },
    {
      "cell_type": "code",
      "source": [
        "regressor_epsilon = SVR(kernel= 'linear', epsilon = 0.15)\n",
        "regressor_epsilon.fit(x_train, y_train)"
      ],
      "metadata": {
        "colab": {
          "base_uri": "https://localhost:8080/"
        },
        "outputId": "f50a779c-1b43-472e-fc9d-e565c777ed59",
        "id": "RPhwfaYn7fRb"
      },
      "execution_count": 21,
      "outputs": [
        {
          "output_type": "execute_result",
          "data": {
            "text/plain": [
              "SVR(epsilon=0.15, kernel='linear')"
            ]
          },
          "metadata": {},
          "execution_count": 21
        }
      ]
    },
    {
      "cell_type": "markdown",
      "source": [
        "Model Score"
      ],
      "metadata": {
        "id": "ouegAgjD7fRc"
      }
    },
    {
      "cell_type": "code",
      "source": [
        "regressor_epsilon.score(x_test, y_test)"
      ],
      "metadata": {
        "colab": {
          "base_uri": "https://localhost:8080/"
        },
        "outputId": "17408ad8-c62e-4a66-bed2-5cd0b953790b",
        "id": "pQIAPPXc7fRc"
      },
      "execution_count": 22,
      "outputs": [
        {
          "output_type": "execute_result",
          "data": {
            "text/plain": [
              "0.676378815967517"
            ]
          },
          "metadata": {},
          "execution_count": 22
        }
      ]
    },
    {
      "cell_type": "markdown",
      "source": [
        "score changed to 67.6378815967517%"
      ],
      "metadata": {
        "id": "7xpypy3Z7fRc"
      }
    },
    {
      "cell_type": "markdown",
      "source": [
        "## Epsilon 0.2"
      ],
      "metadata": {
        "id": "Ka7GEOgD7Y1o"
      }
    },
    {
      "cell_type": "code",
      "source": [
        "regressor_epsilon = SVR(kernel= 'linear', epsilon = 0.2)\n",
        "regressor_epsilon.fit(x_train, y_train)"
      ],
      "metadata": {
        "colab": {
          "base_uri": "https://localhost:8080/"
        },
        "outputId": "765cd132-cc88-4756-97bd-fe2e0dd6edff",
        "id": "UA5sZNhAp4GN"
      },
      "execution_count": 23,
      "outputs": [
        {
          "output_type": "execute_result",
          "data": {
            "text/plain": [
              "SVR(epsilon=0.2, kernel='linear')"
            ]
          },
          "metadata": {},
          "execution_count": 23
        }
      ]
    },
    {
      "cell_type": "markdown",
      "source": [
        "Model Score"
      ],
      "metadata": {
        "id": "mk1Gf8gYp4GU"
      }
    },
    {
      "cell_type": "code",
      "source": [
        "regressor_epsilon.score(x_test, y_test)"
      ],
      "metadata": {
        "colab": {
          "base_uri": "https://localhost:8080/"
        },
        "outputId": "3443eb9b-7953-423d-fa90-39b0d28591e0",
        "id": "_mUlOPrWp4GU"
      },
      "execution_count": 24,
      "outputs": [
        {
          "output_type": "execute_result",
          "data": {
            "text/plain": [
              "0.6745601128234539"
            ]
          },
          "metadata": {},
          "execution_count": 24
        }
      ]
    },
    {
      "cell_type": "markdown",
      "source": [
        "Score changed to 67.45601128234539%"
      ],
      "metadata": {
        "id": "d21Z4ZhKqjX2"
      }
    },
    {
      "cell_type": "markdown",
      "source": [
        "## Epsilon 0.25"
      ],
      "metadata": {
        "id": "NbzoUpN07gE8"
      }
    },
    {
      "cell_type": "code",
      "source": [
        "regressor_epsilon = SVR(kernel= 'linear', epsilon = 0.25)\n",
        "regressor_epsilon.fit(x_train, y_train)"
      ],
      "metadata": {
        "colab": {
          "base_uri": "https://localhost:8080/"
        },
        "outputId": "3f10c421-440e-40b0-fc83-00b754562361",
        "id": "Q_frPc_c7gE9"
      },
      "execution_count": 25,
      "outputs": [
        {
          "output_type": "execute_result",
          "data": {
            "text/plain": [
              "SVR(epsilon=0.25, kernel='linear')"
            ]
          },
          "metadata": {},
          "execution_count": 25
        }
      ]
    },
    {
      "cell_type": "markdown",
      "source": [
        "Model Score"
      ],
      "metadata": {
        "id": "pCuZPEMP7gE9"
      }
    },
    {
      "cell_type": "code",
      "source": [
        "regressor_epsilon.score(x_test, y_test)"
      ],
      "metadata": {
        "colab": {
          "base_uri": "https://localhost:8080/"
        },
        "outputId": "959dabbd-9423-4a94-defb-f30d433ec6f5",
        "id": "P_gD8IfH7gE9"
      },
      "execution_count": 26,
      "outputs": [
        {
          "output_type": "execute_result",
          "data": {
            "text/plain": [
              "0.6744715616642741"
            ]
          },
          "metadata": {},
          "execution_count": 26
        }
      ]
    },
    {
      "cell_type": "markdown",
      "source": [
        "score changed to 67.44715616642741%"
      ],
      "metadata": {
        "id": "JDujHqoQ8qFx"
      }
    },
    {
      "cell_type": "markdown",
      "source": [
        "Epsilon Tuning Results\n",
        "\n",
        "Epsilon = 0.15:  67.6378815967517%\n",
        "\n",
        "Epsilon = 0.2:  67.45601128234539%\n",
        "\n",
        "Epsilon = 0.25:  67.44715616642741%\n",
        "\n",
        "**Keep Epsilon = 0.2 in model**"
      ],
      "metadata": {
        "id": "BARUAQto7gE9"
      }
    },
    {
      "cell_type": "markdown",
      "source": [
        "# C Tuning"
      ],
      "metadata": {
        "id": "c4MSPx9azzqW"
      }
    },
    {
      "cell_type": "markdown",
      "source": [
        "## Results for C = 2.0"
      ],
      "metadata": {
        "id": "cysJVPfT0EOj"
      }
    },
    {
      "cell_type": "code",
      "source": [
        "regressor_C = SVR(kernel= 'linear', epsilon = 0.2, C=2)\n",
        "regressor_C.fit(x_train, y_train)"
      ],
      "metadata": {
        "colab": {
          "base_uri": "https://localhost:8080/"
        },
        "outputId": "e6a0224f-f863-46b4-c773-246668e1668b",
        "id": "uuabQwvWz_mC"
      },
      "execution_count": 27,
      "outputs": [
        {
          "output_type": "execute_result",
          "data": {
            "text/plain": [
              "SVR(C=2, epsilon=0.2, kernel='linear')"
            ]
          },
          "metadata": {},
          "execution_count": 27
        }
      ]
    },
    {
      "cell_type": "markdown",
      "source": [
        "Model Score"
      ],
      "metadata": {
        "id": "FM3Lz1w-z_mD"
      }
    },
    {
      "cell_type": "code",
      "source": [
        "regressor_C.score(x_test, y_test)"
      ],
      "metadata": {
        "colab": {
          "base_uri": "https://localhost:8080/"
        },
        "outputId": "295249bc-ff2b-4cec-e4d2-ff65c31f826a",
        "id": "UkYowqOwz_mD"
      },
      "execution_count": 28,
      "outputs": [
        {
          "output_type": "execute_result",
          "data": {
            "text/plain": [
              "0.6786340178439385"
            ]
          },
          "metadata": {},
          "execution_count": 28
        }
      ]
    },
    {
      "cell_type": "markdown",
      "source": [
        "score changed to 67.86340178439385%"
      ],
      "metadata": {
        "id": "-nNl5-fg1GA7"
      }
    },
    {
      "cell_type": "markdown",
      "source": [
        "## Results for C = 3.0"
      ],
      "metadata": {
        "id": "epSVVHOF0UGl"
      }
    },
    {
      "cell_type": "code",
      "source": [
        "regressor_C = SVR(kernel= 'linear', epsilon = 0.2, C=3)\n",
        "regressor_C.fit(x_train, y_train)"
      ],
      "metadata": {
        "colab": {
          "base_uri": "https://localhost:8080/"
        },
        "outputId": "873d4cee-9157-483b-d9da-a82d4aa32011",
        "id": "rla-itpV02N_"
      },
      "execution_count": 29,
      "outputs": [
        {
          "output_type": "execute_result",
          "data": {
            "text/plain": [
              "SVR(C=3, epsilon=0.2, kernel='linear')"
            ]
          },
          "metadata": {},
          "execution_count": 29
        }
      ]
    },
    {
      "cell_type": "markdown",
      "source": [
        "Model Score"
      ],
      "metadata": {
        "id": "Qv8L6bnU02N_"
      }
    },
    {
      "cell_type": "code",
      "source": [
        "regressor_C.score(x_test, y_test)"
      ],
      "metadata": {
        "colab": {
          "base_uri": "https://localhost:8080/"
        },
        "outputId": "9d8d18bd-3594-47f1-c67b-be1352218ae9",
        "id": "okj8XRA302OA"
      },
      "execution_count": 30,
      "outputs": [
        {
          "output_type": "execute_result",
          "data": {
            "text/plain": [
              "0.6814457272821559"
            ]
          },
          "metadata": {},
          "execution_count": 30
        }
      ]
    },
    {
      "cell_type": "markdown",
      "source": [
        "Score changed to 68.14457272821559%"
      ],
      "metadata": {
        "id": "NabTca751P84"
      }
    },
    {
      "cell_type": "markdown",
      "source": [
        "## Results for C = 5.0"
      ],
      "metadata": {
        "id": "_P1Y7qbl0VzY"
      }
    },
    {
      "cell_type": "code",
      "source": [
        "regressor_C = SVR(kernel= 'linear', epsilon = 0.2, C=5)\n",
        "regressor_C.fit(x_train, y_train)"
      ],
      "metadata": {
        "colab": {
          "base_uri": "https://localhost:8080/"
        },
        "outputId": "402a4dbb-2508-43f5-b99d-d33fe448dec1",
        "id": "I0dmRTsv021b"
      },
      "execution_count": 31,
      "outputs": [
        {
          "output_type": "execute_result",
          "data": {
            "text/plain": [
              "SVR(C=5, epsilon=0.2, kernel='linear')"
            ]
          },
          "metadata": {},
          "execution_count": 31
        }
      ]
    },
    {
      "cell_type": "markdown",
      "source": [
        "Model Score"
      ],
      "metadata": {
        "id": "oqJbhu_z021b"
      }
    },
    {
      "cell_type": "code",
      "source": [
        "regressor_C.score(x_test, y_test)"
      ],
      "metadata": {
        "colab": {
          "base_uri": "https://localhost:8080/"
        },
        "outputId": "46749408-5f6d-4193-c2c8-bda57a39f0d3",
        "id": "i53Cl-iq021b"
      },
      "execution_count": 32,
      "outputs": [
        {
          "output_type": "execute_result",
          "data": {
            "text/plain": [
              "0.6879443123442981"
            ]
          },
          "metadata": {},
          "execution_count": 32
        }
      ]
    },
    {
      "cell_type": "markdown",
      "source": [
        "Score changed to 68.79443123442981%"
      ],
      "metadata": {
        "id": "GlYY0vpk1Uim"
      }
    },
    {
      "cell_type": "markdown",
      "source": [
        "## Results for C = 6.0"
      ],
      "metadata": {
        "id": "v7jBP0uw0YUe"
      }
    },
    {
      "cell_type": "code",
      "source": [
        "regressor_C = SVR(kernel= 'linear', epsilon = 0.2, C=6)\n",
        "regressor_C.fit(x_train, y_train)"
      ],
      "metadata": {
        "colab": {
          "base_uri": "https://localhost:8080/"
        },
        "outputId": "418daacf-3750-430b-defd-e18da4a3a4bb",
        "id": "sP9EgpU3qqoN"
      },
      "execution_count": 33,
      "outputs": [
        {
          "output_type": "execute_result",
          "data": {
            "text/plain": [
              "SVR(C=6, epsilon=0.2, kernel='linear')"
            ]
          },
          "metadata": {},
          "execution_count": 33
        }
      ]
    },
    {
      "cell_type": "markdown",
      "source": [
        "Model Score"
      ],
      "metadata": {
        "id": "Y5PWbEFcqqoN"
      }
    },
    {
      "cell_type": "code",
      "source": [
        "regressor_C.score(x_test, y_test)"
      ],
      "metadata": {
        "colab": {
          "base_uri": "https://localhost:8080/"
        },
        "outputId": "24476370-a521-4b3e-be19-60f9baab6bb2",
        "id": "bqPj-zLmqqoN"
      },
      "execution_count": 34,
      "outputs": [
        {
          "output_type": "execute_result",
          "data": {
            "text/plain": [
              "0.68810987505182"
            ]
          },
          "metadata": {},
          "execution_count": 34
        }
      ]
    },
    {
      "cell_type": "markdown",
      "source": [
        "score changed to 68.810987505182%"
      ],
      "metadata": {
        "id": "gofMHo1WBoMB"
      }
    },
    {
      "cell_type": "markdown",
      "source": [
        "## Results for C = 7.5"
      ],
      "metadata": {
        "id": "sg6C_7AL0ZAs"
      }
    },
    {
      "cell_type": "code",
      "source": [
        "regressor_C = SVR(kernel= 'linear', epsilon = 0.2, C=7.5)\n",
        "regressor_C.fit(x_train, y_train)"
      ],
      "metadata": {
        "colab": {
          "base_uri": "https://localhost:8080/"
        },
        "outputId": "c45cd5c9-42b7-45c3-8f79-e3c97861ef87",
        "id": "PmrfczLO07CQ"
      },
      "execution_count": 35,
      "outputs": [
        {
          "output_type": "execute_result",
          "data": {
            "text/plain": [
              "SVR(C=7.5, epsilon=0.2, kernel='linear')"
            ]
          },
          "metadata": {},
          "execution_count": 35
        }
      ]
    },
    {
      "cell_type": "markdown",
      "source": [
        "Model Score"
      ],
      "metadata": {
        "id": "3wDWQkM007CQ"
      }
    },
    {
      "cell_type": "code",
      "source": [
        "regressor_C.score(x_test, y_test)"
      ],
      "metadata": {
        "colab": {
          "base_uri": "https://localhost:8080/"
        },
        "outputId": "a81a0cbc-3d3c-40ca-d08b-70200d310bd9",
        "id": "4JmOqHXv07CQ"
      },
      "execution_count": 36,
      "outputs": [
        {
          "output_type": "execute_result",
          "data": {
            "text/plain": [
              "0.6787340820537053"
            ]
          },
          "metadata": {},
          "execution_count": 36
        }
      ]
    },
    {
      "cell_type": "markdown",
      "source": [
        "Score changed to 67.87340820537053%"
      ],
      "metadata": {
        "id": "Z_q8xj7rBtFY"
      }
    },
    {
      "cell_type": "markdown",
      "source": [
        "## Results for C = 10.0"
      ],
      "metadata": {
        "id": "BAIMKBw50Yvi"
      }
    },
    {
      "cell_type": "code",
      "source": [
        "regressor_C = SVR(kernel= 'linear', epsilon = 0.2, C=10.0)\n",
        "regressor_C.fit(x_train, y_train)"
      ],
      "metadata": {
        "colab": {
          "base_uri": "https://localhost:8080/"
        },
        "outputId": "46e4c337-5659-4eb3-ae36-162abae58613",
        "id": "Et0hewTL09E1"
      },
      "execution_count": 37,
      "outputs": [
        {
          "output_type": "execute_result",
          "data": {
            "text/plain": [
              "SVR(C=10.0, epsilon=0.2, kernel='linear')"
            ]
          },
          "metadata": {},
          "execution_count": 37
        }
      ]
    },
    {
      "cell_type": "markdown",
      "source": [
        "Model Score"
      ],
      "metadata": {
        "id": "K8iUUAdQ09E1"
      }
    },
    {
      "cell_type": "code",
      "source": [
        "regressor_C.score(x_test, y_test)"
      ],
      "metadata": {
        "colab": {
          "base_uri": "https://localhost:8080/"
        },
        "outputId": "00a0359a-91de-42ba-ded8-e02cdefb416d",
        "id": "6j0yKjfK09E1"
      },
      "execution_count": 38,
      "outputs": [
        {
          "output_type": "execute_result",
          "data": {
            "text/plain": [
              "0.670188913331756"
            ]
          },
          "metadata": {},
          "execution_count": 38
        }
      ]
    },
    {
      "cell_type": "markdown",
      "source": [
        "score changed to 67.0188913331756%"
      ],
      "metadata": {
        "id": "ajR0k0A9BzLM"
      }
    },
    {
      "cell_type": "markdown",
      "source": [
        "## Results for C = 15.0"
      ],
      "metadata": {
        "id": "Iwtih4G_0NOf"
      }
    },
    {
      "cell_type": "code",
      "source": [
        "regressor_C = SVR(kernel= 'linear', epsilon = 0.2, C=15.0)\n",
        "regressor_C.fit(x_train, y_train)"
      ],
      "metadata": {
        "colab": {
          "base_uri": "https://localhost:8080/"
        },
        "outputId": "f5b80c33-146e-4024-89ee-8d2f83c1bf94",
        "id": "ntfHN1_a08gt"
      },
      "execution_count": 39,
      "outputs": [
        {
          "output_type": "execute_result",
          "data": {
            "text/plain": [
              "SVR(C=15.0, epsilon=0.2, kernel='linear')"
            ]
          },
          "metadata": {},
          "execution_count": 39
        }
      ]
    },
    {
      "cell_type": "markdown",
      "source": [
        "Model Score"
      ],
      "metadata": {
        "id": "QMfsDmTz08gt"
      }
    },
    {
      "cell_type": "code",
      "source": [
        "regressor_C.score(x_test, y_test)"
      ],
      "metadata": {
        "colab": {
          "base_uri": "https://localhost:8080/"
        },
        "outputId": "f2167d8a-1e90-4a4b-d557-9b3f762559eb",
        "id": "xIRxm78_08gu"
      },
      "execution_count": 40,
      "outputs": [
        {
          "output_type": "execute_result",
          "data": {
            "text/plain": [
              "0.6678169311378781"
            ]
          },
          "metadata": {},
          "execution_count": 40
        }
      ]
    },
    {
      "cell_type": "markdown",
      "source": [
        "score changed to 66.78169311378781%"
      ],
      "metadata": {
        "id": "awA5r1ITB4Xh"
      }
    },
    {
      "cell_type": "markdown",
      "source": [
        "## C values and accuracy scores\n",
        "\n",
        "C=2:  0.6786340178439385\n",
        "\n",
        "C=3:  0.6814457272821559\n",
        "\n",
        "C=5:  0.6879443123442981\n",
        "\n",
        "C=6:  0.68810987505182\n",
        "\n",
        "C=7.5:  0.6787340820537053\n",
        "\n",
        "C=10:  0.670188913331756\n",
        "\n",
        "c=15:  0.6678169311378781\n",
        "\n",
        "**C=6 seems to be the best setting with accuracy score of 68.81%.  Keep C=6.0**"
      ],
      "metadata": {
        "id": "KuJ1dYP4r0ci"
      }
    },
    {
      "cell_type": "markdown",
      "source": [
        "# Degree Tuning"
      ],
      "metadata": {
        "id": "WB3xAb2Oz2kb"
      }
    },
    {
      "cell_type": "markdown",
      "source": [
        "Given that there are 13 variables, we change degree value to 14 and look for imporovements to score\n"
      ],
      "metadata": {
        "id": "IU81jdj69cPE"
      }
    },
    {
      "cell_type": "code",
      "source": [
        "regressor_degree = SVR(kernel= 'linear', epsilon = 0.2, C=6, degree=14)\n",
        "regressor_degree.fit(x_train, y_train)"
      ],
      "metadata": {
        "colab": {
          "base_uri": "https://localhost:8080/"
        },
        "outputId": "7f87e113-68d8-4c91-d3cd-15849d2f8a1c",
        "id": "lFQ_3NK3ttDR"
      },
      "execution_count": 41,
      "outputs": [
        {
          "output_type": "execute_result",
          "data": {
            "text/plain": [
              "SVR(C=6, degree=14, epsilon=0.2, kernel='linear')"
            ]
          },
          "metadata": {},
          "execution_count": 41
        }
      ]
    },
    {
      "cell_type": "markdown",
      "source": [
        "Model Score"
      ],
      "metadata": {
        "id": "cdME7QCrttDS"
      }
    },
    {
      "cell_type": "code",
      "source": [
        "regressor_degree.score(x_test, y_test)"
      ],
      "metadata": {
        "colab": {
          "base_uri": "https://localhost:8080/"
        },
        "outputId": "9f453168-e301-4810-9929-71c557d3be9f",
        "id": "VSSjupNGttDS"
      },
      "execution_count": 42,
      "outputs": [
        {
          "output_type": "execute_result",
          "data": {
            "text/plain": [
              "0.68810987505182"
            ]
          },
          "metadata": {},
          "execution_count": 42
        }
      ]
    },
    {
      "cell_type": "markdown",
      "source": [
        "as expected score did not change:  68.810987505182%\n",
        "\n",
        " Conclude that no change to degree is required."
      ],
      "metadata": {
        "id": "fk1Hz-z6-UrN"
      }
    },
    {
      "cell_type": "code",
      "source": [
        "regressor_final = SVR(kernel= 'linear', epsilon = 0.2, C=6)\n",
        "regressor_final.fit(x_train, y_train)\n",
        "regressor_final.score(x_test, y_test)"
      ],
      "metadata": {
        "colab": {
          "base_uri": "https://localhost:8080/"
        },
        "outputId": "9b36ac40-6d87-496a-d749-a5ba7bb1e7ef",
        "id": "tmaUrJof_8qT"
      },
      "execution_count": 43,
      "outputs": [
        {
          "output_type": "execute_result",
          "data": {
            "text/plain": [
              "0.68810987505182"
            ]
          },
          "metadata": {},
          "execution_count": 43
        }
      ]
    },
    {
      "cell_type": "markdown",
      "source": [
        "# Conclusions to model parameters\n",
        "\n",
        "new model to be the following:\n",
        "\n",
        "SVR(kernel= 'linear', epsilon = 0.2, C=6)\n",
        "\n",
        "With score of approx.  68.81099%"
      ],
      "metadata": {
        "id": "VsuQi0IZ_M-5"
      }
    },
    {
      "cell_type": "markdown",
      "source": [
        "Predict Final Model"
      ],
      "metadata": {
        "id": "QonAGXiAbTbC"
      }
    },
    {
      "cell_type": "code",
      "source": [
        "predictions_svr_final = regressor_final.predict(x_test)\n",
        "predictions_svr_final.shape"
      ],
      "metadata": {
        "colab": {
          "base_uri": "https://localhost:8080/"
        },
        "outputId": "7eb4d5fc-ca29-4ffc-b49f-1ae2b697654d",
        "id": "WUBtcUm0bQlg"
      },
      "execution_count": 44,
      "outputs": [
        {
          "output_type": "execute_result",
          "data": {
            "text/plain": [
              "(102,)"
            ]
          },
          "metadata": {},
          "execution_count": 44
        }
      ]
    },
    {
      "cell_type": "markdown",
      "source": [
        "Final Model Visualize Results"
      ],
      "metadata": {
        "id": "6Px40J45bQlh"
      }
    },
    {
      "cell_type": "code",
      "source": [
        "plt.scatter(y_test, predictions_svr_final, color = 'red')\n",
        "#plt.plot(predictions, y_test, color = 'blue')\n",
        "plt.title('SVR Results - Final Model')\n",
        "plt.xlabel('y_test')\n",
        "plt.ylabel('predictions_svr_final')"
      ],
      "metadata": {
        "colab": {
          "base_uri": "https://localhost:8080/",
          "height": 313
        },
        "outputId": "e4e0f43f-5de1-47df-8a7a-d7076df5402d",
        "id": "hiXNiL44bQlh"
      },
      "execution_count": 45,
      "outputs": [
        {
          "output_type": "execute_result",
          "data": {
            "text/plain": [
              "Text(0, 0.5, 'predictions_svr_final')"
            ]
          },
          "metadata": {},
          "execution_count": 45
        },
        {
          "output_type": "display_data",
          "data": {
            "text/plain": [
              "<Figure size 432x288 with 1 Axes>"
            ],
            "image/png": "[encoded data removed]"
          },
          "metadata": {
            "needs_background": "light"
          }
        }
      ]
    }
  ],
  "metadata": {
    "kernelspec": {
      "display_name": "Python 3",
      "language": "python",
      "name": "python3"
    },
    "language_info": {
      "codemirror_mode": {
        "name": "ipython",
        "version": 3
      },
      "file_extension": ".py",
      "mimetype": "text/x-python",
      "name": "python",
      "nbconvert_exporter": "python",
      "pygments_lexer": "ipython3",
      "version": "3.8.5"
    },
    "colab": {
      "provenance": [],
      "include_colab_link": true
    }
  },
  "nbformat": 4,
  "nbformat_minor": 0
}