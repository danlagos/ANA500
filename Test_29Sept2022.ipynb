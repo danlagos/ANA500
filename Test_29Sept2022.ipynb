{
 "cells": [
  {
   "cell_type": "code",
   "execution_count": 5,
   "id": "7335ce03",
   "metadata": {},
   "outputs": [],
   "source": [
    "### Author:  Daniel Lagos\n",
    "# Date:  Sept 29, 2022"
   ]
  },
  {
   "cell_type": "code",
   "execution_count": 8,
   "id": "5fc52ea9",
   "metadata": {},
   "outputs": [],
   "source": [
    "# import libraries\n",
    "import numpy as np"
   ]
  },
  {
   "cell_type": "code",
   "execution_count": 9,
   "id": "74fe4a9c",
   "metadata": {},
   "outputs": [
    {
     "name": "stdout",
     "output_type": "stream",
     "text": [
      "[  3  33 333]\n",
      "<class 'numpy.ndarray'>\n"
     ]
    }
   ],
   "source": [
    "an_array = np.array([3, 33, 333])\n",
    "\n",
    "print (an_array)\n",
    "print(type(an_array))"
   ]
  },
  {
   "cell_type": "code",
   "execution_count": 14,
   "id": "1699ca46",
   "metadata": {},
   "outputs": [
    {
     "name": "stdout",
     "output_type": "stream",
     "text": [
      "[[ 11  12 123]\n",
      " [ 21  22  23]]\n",
      "(2, 3)\n"
     ]
    }
   ],
   "source": [
    "array_Two = np.array([[11, 12, 123], [21, 22, 23]])\n",
    "print(array_Two)\n",
    "print(array_Two.shape)"
   ]
  }
 ],
 "metadata": {
  "kernelspec": {
   "display_name": "Python 3 (ipykernel)",
   "language": "python",
   "name": "python3"
  },
  "language_info": {
   "codemirror_mode": {
    "name": "ipython",
    "version": 3
   },
   "file_extension": ".py",
   "mimetype": "text/x-python",
   "name": "python",
   "nbconvert_exporter": "python",
   "pygments_lexer": "ipython3",
   "version": "3.9.7"
  }
 },
 "nbformat": 4,
 "nbformat_minor": 5
}
